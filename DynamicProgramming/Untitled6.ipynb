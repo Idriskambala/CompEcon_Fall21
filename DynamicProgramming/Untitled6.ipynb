{
 "cells": [
  {
   "cell_type": "code",
   "execution_count": 1,
   "id": "722f0f9c",
   "metadata": {},
   "outputs": [],
   "source": [
    "import numpy as np\n",
    "import numpy as np\n",
    "import matplotlib.pyplot as plt\n",
    "from scipy import interpolate\n",
    "import scipy.optimize as opt\n",
    "import scipy \n",
    "from scipy.optimize import fminbound\n",
    "\n",
    "# to print plots inline\n",
    "%matplotlib inline"
   ]
  },
  {
   "cell_type": "code",
   "execution_count": 2,
   "id": "d63aca32",
   "metadata": {},
   "outputs": [],
   "source": [
    "#parameters\n",
    "beta = 0.95 #time preference\n",
    "alpha = 0.5 #This measures the intensity of habit formation and also denotes the nonseparability of preferences over time\n",
    "Y = 100 #exogenous income\n",
    "R = 1 #interest rate\n",
    "\n",
    "#grids\n",
    "a_lb = 0.1\n",
    "a_ub = 4\n",
    "size_a = 200\n",
    "size_c = 200\n",
    "a_grid = np.linspace(a_lb, a_ub, size_a)\n",
    "c_grid = np.linspace(a_lb, a_ub, size_c)"
   ]
  },
  {
   "cell_type": "code",
   "execution_count": 3,
   "id": "b4f63a81",
   "metadata": {},
   "outputs": [],
   "source": [
    "def utility(a, aprime, c_1, alpha, R, Y):\n",
    "    \"\"\"\n",
    "    Per period utility function\n",
    "    \"\"\"\n",
    "    c = Y + (1 + R) * a - aprime\n",
    "    if c < c_1:\n",
    "        u = np.log(1)\n",
    "    else:\n",
    "        u = np.log(c - alpha * c_1)\n",
    "                \n",
    "                   \n",
    "    return u"
   ]
  },
  {
   "cell_type": "code",
   "execution_count": 4,
   "id": "d35df5bf",
   "metadata": {},
   "outputs": [],
   "source": [
    "def bellmanoperator(V, a_grid, c_grid, params):\n",
    "    alpha, R, Y, beta = params\n",
    "    V_func = interpolate.interp2d(a_grid, c_grid, V, kind='cubic')\n",
    "\n",
    "    TV = np.empty_like(V)\n",
    "    opta = np.empty_like(TV)\n",
    "\n",
    "    # : max_a' { u(c,c_1) + beta V(a', c)} #but c = f(a, aprime)\n",
    "    #This is Equation 2 \n",
    "    for i, a in enumerate(a_grid):\n",
    "        def objective(aprime):\n",
    "            return - utility(a, aprime, c_1, alpha, R, Y) - (beta * V_func(aprime, c))\n",
    "        aprime_star = fminbound(objective, 1e-6, a - 1e-6)\n",
    "        opta[i] = aprime_star\n",
    "        TV[i] = - objective(aprime_star)\n",
    "                                 \n",
    "                \n",
    "                \n",
    "\n",
    "    return TV, opta\n"
   ]
  },
  {
   "cell_type": "code",
   "execution_count": 5,
   "id": "ce8c903a",
   "metadata": {},
   "outputs": [
    {
     "ename": "NameError",
     "evalue": "name 'aprime' is not defined",
     "output_type": "error",
     "traceback": [
      "\u001b[1;31m---------------------------------------------------------------------------\u001b[0m",
      "\u001b[1;31mNameError\u001b[0m                                 Traceback (most recent call last)",
      "\u001b[1;32m<ipython-input-5-312d04b38d1f>\u001b[0m in \u001b[0;36m<module>\u001b[1;34m\u001b[0m\n\u001b[0;32m     32\u001b[0m         \u001b[1;32mfor\u001b[0m \u001b[0mc\u001b[0m \u001b[1;32min\u001b[0m \u001b[0mrange\u001b[0m\u001b[1;33m(\u001b[0m\u001b[0msize_c\u001b[0m\u001b[1;33m)\u001b[0m\u001b[1;33m:\u001b[0m\u001b[1;33m\u001b[0m\u001b[1;33m\u001b[0m\u001b[0m\n\u001b[0;32m     33\u001b[0m             \u001b[1;32mfor\u001b[0m \u001b[0mc_1\u001b[0m \u001b[1;32min\u001b[0m \u001b[0mrange\u001b[0m\u001b[1;33m(\u001b[0m\u001b[0msize_c\u001b[0m\u001b[1;33m)\u001b[0m\u001b[1;33m:\u001b[0m\u001b[1;33m\u001b[0m\u001b[1;33m\u001b[0m\u001b[0m\n\u001b[1;32m---> 34\u001b[1;33m                 \u001b[0mVmat\u001b[0m\u001b[1;33m[\u001b[0m\u001b[0ma\u001b[0m\u001b[1;33m,\u001b[0m \u001b[0mc_1\u001b[0m\u001b[1;33m,\u001b[0m \u001b[0mc\u001b[0m\u001b[1;33m]\u001b[0m \u001b[1;33m=\u001b[0m \u001b[0mutility\u001b[0m\u001b[1;33m(\u001b[0m\u001b[0ma\u001b[0m\u001b[1;33m,\u001b[0m \u001b[0maprime\u001b[0m\u001b[1;33m,\u001b[0m \u001b[0mc_1\u001b[0m\u001b[1;33m,\u001b[0m \u001b[0malpha\u001b[0m\u001b[1;33m,\u001b[0m \u001b[0mR\u001b[0m\u001b[1;33m,\u001b[0m \u001b[0mY\u001b[0m\u001b[1;33m)\u001b[0m \u001b[1;33m+\u001b[0m \u001b[1;33m(\u001b[0m\u001b[0mbeta\u001b[0m \u001b[1;33m*\u001b[0m \u001b[0mV_func\u001b[0m\u001b[1;33m(\u001b[0m\u001b[0maprime\u001b[0m\u001b[1;33m,\u001b[0m \u001b[0mc\u001b[0m\u001b[1;33m)\u001b[0m\u001b[1;33m)\u001b[0m\u001b[1;33m\u001b[0m\u001b[1;33m\u001b[0m\u001b[0m\n\u001b[0m\u001b[0;32m     35\u001b[0m \u001b[1;33m\u001b[0m\u001b[0m\n\u001b[0;32m     36\u001b[0m     \u001b[0mVstore\u001b[0m\u001b[1;33m[\u001b[0m\u001b[1;33m:\u001b[0m\u001b[1;33m,\u001b[0m \u001b[0mVFiter\u001b[0m\u001b[1;33m]\u001b[0m \u001b[1;33m=\u001b[0m \u001b[0mV\u001b[0m\u001b[1;33m\u001b[0m\u001b[1;33m\u001b[0m\u001b[0m\n",
      "\u001b[1;31mNameError\u001b[0m: name 'aprime' is not defined"
     ]
    }
   ],
   "source": [
    "#value function iteration\n",
    "VFtol = 1e-5\n",
    "VFdist = 7.0 \n",
    "VFmaxiter = 200 \n",
    "V = np.zeros((size_a, size_c))\n",
    "Vstore = np.zeros((size_a, size_c, VFmaxiter))\n",
    "VFiter = 1 \n",
    "V_params = (alpha, R, Y, beta)\n",
    "while VFdist > VFtol and VFiter < VFmaxiter:\n",
    "    for a in range(size_a):\n",
    "        for c in range(size_c):\n",
    "            for c_1 in range(size_c):\n",
    "                Vmat[a, c_1, c] = utility(a, aprime, c_1, alpha, R, Y) + (beta * V_func(aprime, c))  \n",
    "                \n",
    "    Vstore[:, VFiter] = V\n",
    "    TV, opta = bellmanoperator(V, a_grid, c_grid, V_params)\n",
    "    VFdist = (np.absolute(V - TV)).max()  \n",
    "    print('iteration ', VFiter, ', distance = ', VFdist)\n",
    "    V = TV\n",
    "    VFiter += 1\n",
    "   \n",
    "\n",
    "if VFiter < VFmaxiter:\n",
    "    print('coverged after:', VFiter)\n",
    "else:\n",
    "    print('did not converge')\n",
    "\n",
    "VF = V "
   ]
  },
  {
   "cell_type": "code",
   "execution_count": null,
   "id": "3238ecf8",
   "metadata": {},
   "outputs": [],
   "source": []
  }
 ],
 "metadata": {
  "kernelspec": {
   "display_name": "Python 3",
   "language": "python",
   "name": "python3"
  },
  "language_info": {
   "codemirror_mode": {
    "name": "ipython",
    "version": 3
   },
   "file_extension": ".py",
   "mimetype": "text/x-python",
   "name": "python",
   "nbconvert_exporter": "python",
   "pygments_lexer": "ipython3",
   "version": "3.8.8"
  }
 },
 "nbformat": 4,
 "nbformat_minor": 5
}
