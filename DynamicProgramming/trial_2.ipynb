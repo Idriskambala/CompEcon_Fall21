{
 "cells": [
  {
   "cell_type": "code",
   "execution_count": 1,
   "id": "e3840444",
   "metadata": {},
   "outputs": [],
   "source": [
    "# Import packages\n",
    "import numpy as np\n",
    "import matplotlib.pyplot as plt\n",
    "from scipy import interpolate\n",
    "from scipy.optimize import fminbound\n",
    "import scipy.optimize as opt\n",
    "import scipy \n",
    "\n",
    "# to print plots inline\n",
    "%matplotlib inline"
   ]
  },
  {
   "cell_type": "markdown",
   "id": "9121d0a5",
   "metadata": {},
   "source": [
    "Paramters \\\n",
    "$\\beta = 0.95 $  time preference \\\n",
    "$\\alpha = 0.50 $  This measures the intensity of habit formation and also denotes the nonseparability of preferences over time \\\n",
    "R = 1  interest rate \\\n",
    "y = 100 exogenous income"
   ]
  },
  {
   "cell_type": "code",
   "execution_count": 9,
   "id": "18e76303",
   "metadata": {},
   "outputs": [],
   "source": [
    "beta = 0.95\n",
    "alpha = 0.05\n",
    "R = 1\n",
    "Y = 100"
   ]
  },
  {
   "cell_type": "code",
   "execution_count": 12,
   "id": "f8e0d576",
   "metadata": {},
   "outputs": [],
   "source": [
    "'''\n",
    "------------------------------------------------------------------------\n",
    "Create Grid for State Space    \n",
    "------------------------------------------------------------------------\n",
    "lb_w      = scalar, lower bound of cake grid\n",
    "ub_w      = scalar, upper bound of cake grid \n",
    "size_w    = integer, number of grid points in cake state space\n",
    "w_grid    = vector, size_w x 1 vector of cake grid points \n",
    "------------------------------------------------------------------------\n",
    "'''\n",
    "lb_a = 0.4 \n",
    "ub_a = 2.0 \n",
    "size_c = 200 #number of grid points \n",
    "size_a = 200\n",
    "c_grid = np.linspace(lb_a, ub_a, size_c)\n",
    "a_grid = np.linspace(lb_a, ub_a, size_a)"
   ]
  },
  {
   "cell_type": "code",
   "execution_count": 4,
   "id": "679eff17",
   "metadata": {},
   "outputs": [],
   "source": [
    "def utility(a, aprime, alpha, R, Y):\n",
    "    \"\"\"\n",
    "    Per period utility function\n",
    "    \"\"\"\n",
    "    c = Y + (1 + R) * a - aprime\n",
    "    \n",
    "    U = np.log(c - alpha * c_1)\n",
    "    \n",
    "    return U "
   ]
  },
  {
   "cell_type": "code",
   "execution_count": 13,
   "id": "a3f94aaa",
   "metadata": {},
   "outputs": [],
   "source": [
    "# write Bellman operator function to help with VFI\n",
    "def bellman_operator(V, a_grid, params):\n",
    "    '''\n",
    "    The approximate Bellman operator, which computes and returns the\n",
    "    updated value function TV on the grid points.  An array to store\n",
    "    the new set of values TV is optionally supplied (to avoid having to\n",
    "    allocate new arrays at each iteration).  If supplied, any existing data in \n",
    "    Tw will be overwritten.\n",
    "    '''\n",
    "    beta, Y, R, alpha = params\n",
    "    \n",
    "    # Apply cubic interpolation to V\n",
    "    V_func = scipy.interpolate.interp1d(a_grid, V, kind='cubic', fill_value='extrapolate')\n",
    "\n",
    "    # Initialize array for operator and policy function\n",
    "    TV = np.empty_like(V)\n",
    "    opt_a = np.empty_like(TV)\n",
    "\n",
    "    # == set TV[i] = max_c { u(c,c_1) + beta V(Y + (1+r)A - c, c)} == #\n",
    "    for i, a in enumerate(a_grid):\n",
    "        def objective(a_prime):\n",
    "            return - utility(a, aprime, alpha, R, Y) - beta * V_func(a_prime)\n",
    "        a_star = fminbound(objective, 1e-6, a - 1e-6)\n",
    "        opta[i] = a_star\n",
    "        TV[i] = - objective(a_star)\n",
    "    return TV, opta"
   ]
  },
  {
   "cell_type": "code",
   "execution_count": 14,
   "id": "a1e74d32",
   "metadata": {},
   "outputs": [
    {
     "ename": "NameError",
     "evalue": "name 'aprime' is not defined",
     "output_type": "error",
     "traceback": [
      "\u001b[1;31m---------------------------------------------------------------------------\u001b[0m",
      "\u001b[1;31mNameError\u001b[0m                                 Traceback (most recent call last)",
      "\u001b[1;32m<ipython-input-14-a0c51759537b>\u001b[0m in \u001b[0;36m<module>\u001b[1;34m\u001b[0m\n\u001b[0;32m      8\u001b[0m \u001b[1;32mwhile\u001b[0m \u001b[0mVFdist\u001b[0m \u001b[1;33m>\u001b[0m \u001b[0mVFtol\u001b[0m \u001b[1;32mand\u001b[0m \u001b[0mVFiter\u001b[0m \u001b[1;33m<\u001b[0m \u001b[0mVFmaxiter\u001b[0m\u001b[1;33m:\u001b[0m\u001b[1;33m\u001b[0m\u001b[1;33m\u001b[0m\u001b[0m\n\u001b[0;32m      9\u001b[0m     \u001b[0mVstore\u001b[0m\u001b[1;33m[\u001b[0m\u001b[1;33m:\u001b[0m\u001b[1;33m,\u001b[0m \u001b[0mVFiter\u001b[0m\u001b[1;33m]\u001b[0m \u001b[1;33m=\u001b[0m \u001b[0mV\u001b[0m\u001b[1;33m\u001b[0m\u001b[1;33m\u001b[0m\u001b[0m\n\u001b[1;32m---> 10\u001b[1;33m     \u001b[0mTV\u001b[0m\u001b[1;33m,\u001b[0m \u001b[0mopta\u001b[0m \u001b[1;33m=\u001b[0m \u001b[0mbellman_operator\u001b[0m\u001b[1;33m(\u001b[0m\u001b[0mV\u001b[0m\u001b[1;33m,\u001b[0m \u001b[0ma_grid\u001b[0m\u001b[1;33m,\u001b[0m \u001b[0mV_params\u001b[0m\u001b[1;33m)\u001b[0m\u001b[1;33m\u001b[0m\u001b[1;33m\u001b[0m\u001b[0m\n\u001b[0m\u001b[0;32m     11\u001b[0m     \u001b[0mVFdist\u001b[0m \u001b[1;33m=\u001b[0m \u001b[1;33m(\u001b[0m\u001b[0mnp\u001b[0m\u001b[1;33m.\u001b[0m\u001b[0mabsolute\u001b[0m\u001b[1;33m(\u001b[0m\u001b[0mV\u001b[0m \u001b[1;33m-\u001b[0m \u001b[0mTV\u001b[0m\u001b[1;33m)\u001b[0m\u001b[1;33m)\u001b[0m\u001b[1;33m.\u001b[0m\u001b[0mmax\u001b[0m\u001b[1;33m(\u001b[0m\u001b[1;33m)\u001b[0m  \u001b[1;31m# check distance\u001b[0m\u001b[1;33m\u001b[0m\u001b[1;33m\u001b[0m\u001b[0m\n\u001b[0;32m     12\u001b[0m     \u001b[0mprint\u001b[0m\u001b[1;33m(\u001b[0m\u001b[1;34m'Iteration '\u001b[0m\u001b[1;33m,\u001b[0m \u001b[0mVFiter\u001b[0m\u001b[1;33m,\u001b[0m \u001b[1;34m', distance = '\u001b[0m\u001b[1;33m,\u001b[0m \u001b[0mVFdist\u001b[0m\u001b[1;33m)\u001b[0m\u001b[1;33m\u001b[0m\u001b[1;33m\u001b[0m\u001b[0m\n",
      "\u001b[1;32m<ipython-input-13-95a126c93884>\u001b[0m in \u001b[0;36mbellman_operator\u001b[1;34m(V, a_grid, params)\u001b[0m\n\u001b[0;32m     21\u001b[0m         \u001b[1;32mdef\u001b[0m \u001b[0mobjective\u001b[0m\u001b[1;33m(\u001b[0m\u001b[0ma_prime\u001b[0m\u001b[1;33m)\u001b[0m\u001b[1;33m:\u001b[0m\u001b[1;33m\u001b[0m\u001b[1;33m\u001b[0m\u001b[0m\n\u001b[0;32m     22\u001b[0m             \u001b[1;32mreturn\u001b[0m \u001b[1;33m-\u001b[0m \u001b[0mutility\u001b[0m\u001b[1;33m(\u001b[0m\u001b[0ma\u001b[0m\u001b[1;33m,\u001b[0m \u001b[0maprime\u001b[0m\u001b[1;33m,\u001b[0m \u001b[0malpha\u001b[0m\u001b[1;33m,\u001b[0m \u001b[0mR\u001b[0m\u001b[1;33m,\u001b[0m \u001b[0mY\u001b[0m\u001b[1;33m)\u001b[0m \u001b[1;33m-\u001b[0m \u001b[0mbeta\u001b[0m \u001b[1;33m*\u001b[0m \u001b[0mV_func\u001b[0m\u001b[1;33m(\u001b[0m\u001b[0ma_prime\u001b[0m\u001b[1;33m)\u001b[0m\u001b[1;33m\u001b[0m\u001b[1;33m\u001b[0m\u001b[0m\n\u001b[1;32m---> 23\u001b[1;33m         \u001b[0ma_star\u001b[0m \u001b[1;33m=\u001b[0m \u001b[0mfminbound\u001b[0m\u001b[1;33m(\u001b[0m\u001b[0mobjective\u001b[0m\u001b[1;33m,\u001b[0m \u001b[1;36m1e-6\u001b[0m\u001b[1;33m,\u001b[0m \u001b[0ma\u001b[0m \u001b[1;33m-\u001b[0m \u001b[1;36m1e-6\u001b[0m\u001b[1;33m)\u001b[0m\u001b[1;33m\u001b[0m\u001b[1;33m\u001b[0m\u001b[0m\n\u001b[0m\u001b[0;32m     24\u001b[0m         \u001b[0mopta\u001b[0m\u001b[1;33m[\u001b[0m\u001b[0mi\u001b[0m\u001b[1;33m]\u001b[0m \u001b[1;33m=\u001b[0m \u001b[0ma_star\u001b[0m\u001b[1;33m\u001b[0m\u001b[1;33m\u001b[0m\u001b[0m\n\u001b[0;32m     25\u001b[0m         \u001b[0mTV\u001b[0m\u001b[1;33m[\u001b[0m\u001b[0mi\u001b[0m\u001b[1;33m]\u001b[0m \u001b[1;33m=\u001b[0m \u001b[1;33m-\u001b[0m \u001b[0mobjective\u001b[0m\u001b[1;33m(\u001b[0m\u001b[0ma_star\u001b[0m\u001b[1;33m)\u001b[0m\u001b[1;33m\u001b[0m\u001b[1;33m\u001b[0m\u001b[0m\n",
      "\u001b[1;32mC:\\ProgramData\\Anaconda3\\lib\\site-packages\\scipy\\optimize\\optimize.py\u001b[0m in \u001b[0;36mfminbound\u001b[1;34m(func, x1, x2, args, xtol, maxfun, full_output, disp)\u001b[0m\n\u001b[0;32m   1907\u001b[0m                'disp': disp}\n\u001b[0;32m   1908\u001b[0m \u001b[1;33m\u001b[0m\u001b[0m\n\u001b[1;32m-> 1909\u001b[1;33m     \u001b[0mres\u001b[0m \u001b[1;33m=\u001b[0m \u001b[0m_minimize_scalar_bounded\u001b[0m\u001b[1;33m(\u001b[0m\u001b[0mfunc\u001b[0m\u001b[1;33m,\u001b[0m \u001b[1;33m(\u001b[0m\u001b[0mx1\u001b[0m\u001b[1;33m,\u001b[0m \u001b[0mx2\u001b[0m\u001b[1;33m)\u001b[0m\u001b[1;33m,\u001b[0m \u001b[0margs\u001b[0m\u001b[1;33m,\u001b[0m \u001b[1;33m**\u001b[0m\u001b[0moptions\u001b[0m\u001b[1;33m)\u001b[0m\u001b[1;33m\u001b[0m\u001b[1;33m\u001b[0m\u001b[0m\n\u001b[0m\u001b[0;32m   1910\u001b[0m     \u001b[1;32mif\u001b[0m \u001b[0mfull_output\u001b[0m\u001b[1;33m:\u001b[0m\u001b[1;33m\u001b[0m\u001b[1;33m\u001b[0m\u001b[0m\n\u001b[0;32m   1911\u001b[0m         \u001b[1;32mreturn\u001b[0m \u001b[0mres\u001b[0m\u001b[1;33m[\u001b[0m\u001b[1;34m'x'\u001b[0m\u001b[1;33m]\u001b[0m\u001b[1;33m,\u001b[0m \u001b[0mres\u001b[0m\u001b[1;33m[\u001b[0m\u001b[1;34m'fun'\u001b[0m\u001b[1;33m]\u001b[0m\u001b[1;33m,\u001b[0m \u001b[0mres\u001b[0m\u001b[1;33m[\u001b[0m\u001b[1;34m'status'\u001b[0m\u001b[1;33m]\u001b[0m\u001b[1;33m,\u001b[0m \u001b[0mres\u001b[0m\u001b[1;33m[\u001b[0m\u001b[1;34m'nfev'\u001b[0m\u001b[1;33m]\u001b[0m\u001b[1;33m\u001b[0m\u001b[1;33m\u001b[0m\u001b[0m\n",
      "\u001b[1;32mC:\\ProgramData\\Anaconda3\\lib\\site-packages\\scipy\\optimize\\optimize.py\u001b[0m in \u001b[0;36m_minimize_scalar_bounded\u001b[1;34m(func, bounds, args, xatol, maxiter, disp, **unknown_options)\u001b[0m\n\u001b[0;32m   1956\u001b[0m     \u001b[0mrat\u001b[0m \u001b[1;33m=\u001b[0m \u001b[0me\u001b[0m \u001b[1;33m=\u001b[0m \u001b[1;36m0.0\u001b[0m\u001b[1;33m\u001b[0m\u001b[1;33m\u001b[0m\u001b[0m\n\u001b[0;32m   1957\u001b[0m     \u001b[0mx\u001b[0m \u001b[1;33m=\u001b[0m \u001b[0mxf\u001b[0m\u001b[1;33m\u001b[0m\u001b[1;33m\u001b[0m\u001b[0m\n\u001b[1;32m-> 1958\u001b[1;33m     \u001b[0mfx\u001b[0m \u001b[1;33m=\u001b[0m \u001b[0mfunc\u001b[0m\u001b[1;33m(\u001b[0m\u001b[0mx\u001b[0m\u001b[1;33m,\u001b[0m \u001b[1;33m*\u001b[0m\u001b[0margs\u001b[0m\u001b[1;33m)\u001b[0m\u001b[1;33m\u001b[0m\u001b[1;33m\u001b[0m\u001b[0m\n\u001b[0m\u001b[0;32m   1959\u001b[0m     \u001b[0mnum\u001b[0m \u001b[1;33m=\u001b[0m \u001b[1;36m1\u001b[0m\u001b[1;33m\u001b[0m\u001b[1;33m\u001b[0m\u001b[0m\n\u001b[0;32m   1960\u001b[0m     \u001b[0mfmin_data\u001b[0m \u001b[1;33m=\u001b[0m \u001b[1;33m(\u001b[0m\u001b[1;36m1\u001b[0m\u001b[1;33m,\u001b[0m \u001b[0mxf\u001b[0m\u001b[1;33m,\u001b[0m \u001b[0mfx\u001b[0m\u001b[1;33m)\u001b[0m\u001b[1;33m\u001b[0m\u001b[1;33m\u001b[0m\u001b[0m\n",
      "\u001b[1;32m<ipython-input-13-95a126c93884>\u001b[0m in \u001b[0;36mobjective\u001b[1;34m(a_prime)\u001b[0m\n\u001b[0;32m     20\u001b[0m     \u001b[1;32mfor\u001b[0m \u001b[0mi\u001b[0m\u001b[1;33m,\u001b[0m \u001b[0ma\u001b[0m \u001b[1;32min\u001b[0m \u001b[0menumerate\u001b[0m\u001b[1;33m(\u001b[0m\u001b[0ma_grid\u001b[0m\u001b[1;33m)\u001b[0m\u001b[1;33m:\u001b[0m\u001b[1;33m\u001b[0m\u001b[1;33m\u001b[0m\u001b[0m\n\u001b[0;32m     21\u001b[0m         \u001b[1;32mdef\u001b[0m \u001b[0mobjective\u001b[0m\u001b[1;33m(\u001b[0m\u001b[0ma_prime\u001b[0m\u001b[1;33m)\u001b[0m\u001b[1;33m:\u001b[0m\u001b[1;33m\u001b[0m\u001b[1;33m\u001b[0m\u001b[0m\n\u001b[1;32m---> 22\u001b[1;33m             \u001b[1;32mreturn\u001b[0m \u001b[1;33m-\u001b[0m \u001b[0mutility\u001b[0m\u001b[1;33m(\u001b[0m\u001b[0ma\u001b[0m\u001b[1;33m,\u001b[0m \u001b[0maprime\u001b[0m\u001b[1;33m,\u001b[0m \u001b[0malpha\u001b[0m\u001b[1;33m,\u001b[0m \u001b[0mR\u001b[0m\u001b[1;33m,\u001b[0m \u001b[0mY\u001b[0m\u001b[1;33m)\u001b[0m \u001b[1;33m-\u001b[0m \u001b[0mbeta\u001b[0m \u001b[1;33m*\u001b[0m \u001b[0mV_func\u001b[0m\u001b[1;33m(\u001b[0m\u001b[0ma_prime\u001b[0m\u001b[1;33m)\u001b[0m\u001b[1;33m\u001b[0m\u001b[1;33m\u001b[0m\u001b[0m\n\u001b[0m\u001b[0;32m     23\u001b[0m         \u001b[0ma_star\u001b[0m \u001b[1;33m=\u001b[0m \u001b[0mfminbound\u001b[0m\u001b[1;33m(\u001b[0m\u001b[0mobjective\u001b[0m\u001b[1;33m,\u001b[0m \u001b[1;36m1e-6\u001b[0m\u001b[1;33m,\u001b[0m \u001b[0ma\u001b[0m \u001b[1;33m-\u001b[0m \u001b[1;36m1e-6\u001b[0m\u001b[1;33m)\u001b[0m\u001b[1;33m\u001b[0m\u001b[1;33m\u001b[0m\u001b[0m\n\u001b[0;32m     24\u001b[0m         \u001b[0mopta\u001b[0m\u001b[1;33m[\u001b[0m\u001b[0mi\u001b[0m\u001b[1;33m]\u001b[0m \u001b[1;33m=\u001b[0m \u001b[0ma_star\u001b[0m\u001b[1;33m\u001b[0m\u001b[1;33m\u001b[0m\u001b[0m\n",
      "\u001b[1;31mNameError\u001b[0m: name 'aprime' is not defined"
     ]
    }
   ],
   "source": [
    "VFtol = 1e-5\n",
    "VFdist = 7.0 \n",
    "VFmaxiter = 5000 \n",
    "V = np.zeros(size_a) #true_VF # initial guess at value function\n",
    "Vstore = np.zeros((size_a, VFmaxiter)) #initialize Vstore array\n",
    "VFiter = 1 \n",
    "V_params = (beta, Y, R, alpha)\n",
    "while VFdist > VFtol and VFiter < VFmaxiter:\n",
    "    Vstore[:, VFiter] = V\n",
    "    TV, opta = bellman_operator(V, a_grid, V_params)\n",
    "    VFdist = (np.absolute(V - TV)).max()  # check distance\n",
    "    print('Iteration ', VFiter, ', distance = ', VFdist)\n",
    "    V = TV\n",
    "    VFiter += 1\n",
    "\n",
    "if VFiter < VFmaxiter:\n",
    "    print('Value function converged after this many iterations:', VFiter)\n",
    "else:\n",
    "    print('Value function did not converge')            \n",
    "\n",
    "\n",
    "VF = V # solution to the functional equation"
   ]
  },
  {
   "cell_type": "markdown",
   "id": "36423fa7",
   "metadata": {},
   "source": [
    "# Extract decision rules from solution "
   ]
  },
  {
   "cell_type": "code",
   "execution_count": 7,
   "id": "8f1b6d11",
   "metadata": {},
   "outputs": [],
   "source": [
    "'''\n",
    "------------------------------------------------------------------------\n",
    "Find consumption and savings policy functions   \n",
    "------------------------|------------------------------------------------\n",
    "optC  = vector, the optimal choice of c for each c\n",
    "------------------------------------------------------------------------\n",
    "'''\n",
    "opt_a = Y + (1 + R) * a - opt_c"
   ]
  },
  {
   "cell_type": "markdown",
   "id": "49ebc752",
   "metadata": {},
   "source": [
    "# Visualise Output"
   ]
  },
  {
   "cell_type": "code",
   "execution_count": 8,
   "id": "47647513",
   "metadata": {},
   "outputs": [
    {
     "data": {
      "image/png": "[encoded data removed]",
      "text/plain": [
       "<Figure size 432x288 with 1 Axes>"
      ]
     },
     "metadata": {
      "needs_background": "light"
     },
     "output_type": "display_data"
    }
   ],
   "source": [
    "# Plot value function \n",
    "plt.figure()\n",
    "plt.plot(c_grid[1:], VF[1:])\n",
    "plt.xlabel('Size of Cake')\n",
    "plt.ylabel('Value Function')\n",
    "plt.title('Value Function - deterministic cake eating')\n",
    "plt.show()"
   ]
  },
  {
   "cell_type": "code",
   "execution_count": null,
   "id": "c0413385",
   "metadata": {},
   "outputs": [],
   "source": []
  }
 ],
 "metadata": {
  "kernelspec": {
   "display_name": "Python 3",
   "language": "python",
   "name": "python3"
  },
  "language_info": {
   "codemirror_mode": {
    "name": "ipython",
    "version": 3
   },
   "file_extension": ".py",
   "mimetype": "text/x-python",
   "name": "python",
   "nbconvert_exporter": "python",
   "pygments_lexer": "ipython3",
   "version": "3.8.8"
  }
 },
 "nbformat": 4,
 "nbformat_minor": 5
}
