{
 "cells": [
  {
   "cell_type": "code",
   "execution_count": 51,
   "id": "e1e4dcd2",
   "metadata": {},
   "outputs": [],
   "source": [
    "# Import packages\n",
    "import numpy as np\n",
    "import matplotlib.pyplot as plt\n",
    "from scipy import interpolate\n",
    "from scipy.optimize import fminbound\n",
    "import scipy.optimize as opt\n",
    "import scipy \n",
    "\n",
    "# to print plots inline\n",
    "%matplotlib inline"
   ]
  },
  {
   "cell_type": "markdown",
   "id": "d326d9a4",
   "metadata": {},
   "source": [
    "Paramters \\\n",
    "$\\beta = 0.95 $  time preference \\\n",
    "$\\alpha = 0.50 $  This measures the intensity of habit formation and also denotes the nonseparability of preferences over time \\\n",
    "R = 1  interest rate \\\n",
    "y = 100 exogenous income"
   ]
  },
  {
   "cell_type": "code",
   "execution_count": 52,
   "id": "7dd08332",
   "metadata": {},
   "outputs": [],
   "source": [
    "beta = 0.95\n",
    "alpha = 0.50\n",
    "R = 1\n",
    "Y = 100"
   ]
  },
  {
   "cell_type": "code",
   "execution_count": 53,
   "id": "538212e3",
   "metadata": {},
   "outputs": [],
   "source": [
    "'''\n",
    "------------------------------------------------------------------------\n",
    "Create Grid for State Space    \n",
    "------------------------------------------------------------------------\n",
    "lb_w      = scalar, lower bound of cake grid\n",
    "ub_w      = scalar, upper bound of cake grid \n",
    "size_w    = integer, number of grid points in cake state space\n",
    "w_grid    = vector, size_w x 1 vector of cake grid points \n",
    "------------------------------------------------------------------------\n",
    "'''\n",
    "lb_a = 0.4 \n",
    "ub_a = 2.0 \n",
    "size_a = 200  # Number of grid points\n",
    "size_c_1 = 200\n",
    "size_c = 200\n",
    "a_grid = np.linspace(lb_a, ub_a, size_a)\n",
    "c_grid = np.linspace(lb_a, ub_a, size_c_1)"
   ]
  },
  {
   "cell_type": "code",
   "execution_count": 54,
   "id": "9213a6ab",
   "metadata": {},
   "outputs": [],
   "source": [
    "def utility(a, a_prime, alpha, Y, R):\n",
    "    \"\"\"\n",
    "    Per period utility function\n",
    "    \"\"\"\n",
    "    C = Y + (1 + R) * a - a_prime\n",
    "    if alpha == 0:\n",
    "        U = np.log(C) ^ 2\n",
    "    else: \n",
    "        U = np.log(C - alpha * C_1) ^ 2\n",
    "           \n",
    "   \n",
    "    return U "
   ]
  },
  {
   "cell_type": "code",
   "execution_count": 57,
   "id": "861839d4",
   "metadata": {},
   "outputs": [
    {
     "ename": "NameError",
     "evalue": "name 'a' is not defined",
     "output_type": "error",
     "traceback": [
      "\u001b[1;31m---------------------------------------------------------------------------\u001b[0m",
      "\u001b[1;31mNameError\u001b[0m                                 Traceback (most recent call last)",
      "\u001b[1;32m<ipython-input-57-c10be6c039c0>\u001b[0m in \u001b[0;36m<module>\u001b[1;34m\u001b[0m\n\u001b[0;32m     11\u001b[0m         \u001b[1;32mfor\u001b[0m \u001b[0mx\u001b[0m \u001b[1;32min\u001b[0m \u001b[0mrange\u001b[0m\u001b[1;33m(\u001b[0m\u001b[0msize_c_1\u001b[0m\u001b[1;33m)\u001b[0m\u001b[1;33m:\u001b[0m \u001b[1;31m#loop over c_1\u001b[0m\u001b[1;33m\u001b[0m\u001b[1;33m\u001b[0m\u001b[0m\n\u001b[0;32m     12\u001b[0m             \u001b[1;32mfor\u001b[0m \u001b[0mj\u001b[0m \u001b[1;32min\u001b[0m \u001b[0mrange\u001b[0m\u001b[1;33m(\u001b[0m\u001b[0msize_c\u001b[0m\u001b[1;33m)\u001b[0m\u001b[1;33m:\u001b[0m \u001b[1;31m# loop over c\u001b[0m\u001b[1;33m\u001b[0m\u001b[1;33m\u001b[0m\u001b[0m\n\u001b[1;32m---> 13\u001b[1;33m                 \u001b[0mVmat\u001b[0m\u001b[1;33m[\u001b[0m\u001b[0mC_1\u001b[0m\u001b[1;33m,\u001b[0m \u001b[0mC\u001b[0m\u001b[1;33m,\u001b[0m \u001b[0ma\u001b[0m\u001b[1;33m]\u001b[0m \u001b[1;33m=\u001b[0m \u001b[0mutility\u001b[0m\u001b[1;33m[\u001b[0m\u001b[0ma\u001b[0m\u001b[1;33m,\u001b[0m \u001b[0ma_prime\u001b[0m\u001b[1;33m,\u001b[0m \u001b[0malpha\u001b[0m\u001b[1;33m,\u001b[0m \u001b[0mY\u001b[0m\u001b[1;33m,\u001b[0m \u001b[0mR\u001b[0m\u001b[1;33m]\u001b[0m \u001b[1;33m+\u001b[0m \u001b[0mbeta\u001b[0m \u001b[1;33m*\u001b[0m \u001b[0mV_func\u001b[0m\u001b[1;33m[\u001b[0m\u001b[0mC\u001b[0m\u001b[1;33m,\u001b[0m \u001b[0ma_prime\u001b[0m\u001b[1;33m]\u001b[0m\u001b[1;33m\u001b[0m\u001b[1;33m\u001b[0m\u001b[0m\n\u001b[0m\u001b[0;32m     14\u001b[0m \u001b[1;33m\u001b[0m\u001b[0m\n\u001b[0;32m     15\u001b[0m \u001b[1;33m\u001b[0m\u001b[0m\n",
      "\u001b[1;31mNameError\u001b[0m: name 'a' is not defined"
     ]
    }
   ],
   "source": [
    "VFtol = 1e-8 \n",
    "VFdist = 7.0 \n",
    "VFmaxiter = 3000 \n",
    "V = np.zeros((size_a, size_c)) # initial guess at value function\n",
    "V_func = scipy.interpolate.interp2d(a_grid, c_grid, V, kind='cubic', fill_value='extrapolate')\n",
    "Vmat = np.zeros((size_a, size_a)) # initialize Vmat matrix\n",
    "Vstore = np.zeros((size_a, VFmaxiter)) #initialize Vstore array\n",
    "VFiter = 1 \n",
    "while VFdist > VFtol and VFiter < VFmaxiter:  \n",
    "    for i in range(size_a): # loop over a\n",
    "        for x in range(size_c_1): #loop over c_1\n",
    "            for j in range(size_c): # loop over c\n",
    "                Vmat[C_1, C, a] = utility[a, a_prime, alpha, Y, R] + beta * V_func[C, a_prime]\n",
    "                \n",
    "             \n",
    "      \n",
    "    Vstore[:, VFiter] = V.reshape(size_a,) # store value function at each iteration for graphing later\n",
    "    TV = Vmat.max(axis=2) # apply max operator to Vmat (to get V(w))\n",
    "    PF = np.argmax(Vmat, axis=2)\n",
    "    VFdist = (np.absolute(V - TV)).max()  # check distance\n",
    "    V = TV\n",
    "    V_func = scipy.interpolate.interp2d(a_grid, c_grid, V, kind='cubic', fill_value='extrapolate')\n",
    "    VFiter += 1 \n",
    "    \n",
    "\n",
    "\n",
    "if VFiter < VFmaxiter:\n",
    "    print('Value function converged after this many iterations:', VFiter)\n",
    "else:\n",
    "    print('Value function did not converge')            \n",
    "\n",
    "\n",
    "VF = V # solution to the functional equation"
   ]
  },
  {
   "cell_type": "markdown",
   "id": "3123d7f3",
   "metadata": {},
   "source": [
    "Value Function Iteration "
   ]
  },
  {
   "cell_type": "code",
   "execution_count": 24,
   "id": "c38c1447",
   "metadata": {},
   "outputs": [
    {
     "ename": "ValueError",
     "evalue": "too many values to unpack (expected 2)",
     "output_type": "error",
     "traceback": [
      "\u001b[1;31m---------------------------------------------------------------------------\u001b[0m",
      "\u001b[1;31mValueError\u001b[0m                                Traceback (most recent call last)",
      "\u001b[1;32m<ipython-input-24-1ebb0f3de9b1>\u001b[0m in \u001b[0;36m<module>\u001b[1;34m\u001b[0m\n\u001b[0;32m     25\u001b[0m \u001b[1;32mwhile\u001b[0m \u001b[0mVFdist\u001b[0m \u001b[1;33m>\u001b[0m \u001b[0mVFtol\u001b[0m \u001b[1;32mand\u001b[0m \u001b[0mVFiter\u001b[0m \u001b[1;33m<\u001b[0m \u001b[0mVFmaxiter\u001b[0m\u001b[1;33m:\u001b[0m\u001b[1;33m\u001b[0m\u001b[1;33m\u001b[0m\u001b[0m\n\u001b[0;32m     26\u001b[0m     \u001b[0mVstore\u001b[0m\u001b[1;33m[\u001b[0m\u001b[1;33m:\u001b[0m\u001b[1;33m,\u001b[0m \u001b[0mVFiter\u001b[0m\u001b[1;33m]\u001b[0m \u001b[1;33m=\u001b[0m \u001b[0mV\u001b[0m\u001b[1;33m\u001b[0m\u001b[1;33m\u001b[0m\u001b[0m\n\u001b[1;32m---> 27\u001b[1;33m     \u001b[0mTV\u001b[0m\u001b[1;33m,\u001b[0m \u001b[0mopt_a\u001b[0m\u001b[1;33m,\u001b[0m \u001b[0mopt_c\u001b[0m \u001b[1;33m=\u001b[0m \u001b[0mbellman_operator\u001b[0m\u001b[1;33m(\u001b[0m\u001b[0mV\u001b[0m\u001b[1;33m,\u001b[0m \u001b[0ma_grid\u001b[0m\u001b[1;33m,\u001b[0m \u001b[0mc_grid\u001b[0m\u001b[1;33m,\u001b[0m \u001b[0mV_params\u001b[0m\u001b[1;33m)\u001b[0m\u001b[1;33m\u001b[0m\u001b[1;33m\u001b[0m\u001b[0m\n\u001b[0m\u001b[0;32m     28\u001b[0m     \u001b[0mVFdist\u001b[0m \u001b[1;33m=\u001b[0m \u001b[1;33m(\u001b[0m\u001b[0mnp\u001b[0m\u001b[1;33m.\u001b[0m\u001b[0mabsolute\u001b[0m\u001b[1;33m(\u001b[0m\u001b[0mV\u001b[0m \u001b[1;33m-\u001b[0m \u001b[0mTV\u001b[0m\u001b[1;33m)\u001b[0m\u001b[1;33m)\u001b[0m\u001b[1;33m.\u001b[0m\u001b[0mmax\u001b[0m\u001b[1;33m(\u001b[0m\u001b[1;33m)\u001b[0m  \u001b[1;31m# check distance\u001b[0m\u001b[1;33m\u001b[0m\u001b[1;33m\u001b[0m\u001b[0m\n\u001b[0;32m     29\u001b[0m     \u001b[0mprint\u001b[0m\u001b[1;33m(\u001b[0m\u001b[1;34m'Iteration '\u001b[0m\u001b[1;33m,\u001b[0m \u001b[0mVFiter\u001b[0m\u001b[1;33m,\u001b[0m \u001b[1;34m', distance = '\u001b[0m\u001b[1;33m,\u001b[0m \u001b[0mVFdist\u001b[0m\u001b[1;33m)\u001b[0m\u001b[1;33m\u001b[0m\u001b[1;33m\u001b[0m\u001b[0m\n",
      "\u001b[1;32m<ipython-input-23-e59ea8f9e7fc>\u001b[0m in \u001b[0;36mbellman_operator\u001b[1;34m(V, a_grid, c_grid, params)\u001b[0m\n\u001b[0;32m     15\u001b[0m     \u001b[1;31m# Initialize array for operator and policy function\u001b[0m\u001b[1;33m\u001b[0m\u001b[1;33m\u001b[0m\u001b[1;33m\u001b[0m\u001b[0m\n\u001b[0;32m     16\u001b[0m     \u001b[0mTV\u001b[0m \u001b[1;33m=\u001b[0m \u001b[0mnp\u001b[0m\u001b[1;33m.\u001b[0m\u001b[0mempty_like\u001b[0m\u001b[1;33m(\u001b[0m\u001b[0mV\u001b[0m\u001b[1;33m)\u001b[0m\u001b[1;33m\u001b[0m\u001b[1;33m\u001b[0m\u001b[0m\n\u001b[1;32m---> 17\u001b[1;33m     \u001b[0mopt_a\u001b[0m\u001b[1;33m,\u001b[0m \u001b[0mopt_c\u001b[0m \u001b[1;33m=\u001b[0m \u001b[0mnp\u001b[0m\u001b[1;33m.\u001b[0m\u001b[0mempty_like\u001b[0m\u001b[1;33m(\u001b[0m\u001b[0mTV\u001b[0m\u001b[1;33m)\u001b[0m\u001b[1;33m\u001b[0m\u001b[1;33m\u001b[0m\u001b[0m\n\u001b[0m\u001b[0;32m     18\u001b[0m \u001b[1;33m\u001b[0m\u001b[0m\n\u001b[0;32m     19\u001b[0m     \u001b[1;31m# == set TV[i] = max_a',c {u(c, c_1) + beta V(a', c)} == #\u001b[0m\u001b[1;33m\u001b[0m\u001b[1;33m\u001b[0m\u001b[1;33m\u001b[0m\u001b[0m\n",
      "\u001b[1;31mValueError\u001b[0m: too many values to unpack (expected 2)"
     ]
    }
   ],
   "source": [
    "'''\n",
    "------------------------------------------------------------------------\n",
    "Value Function Iteration    \n",
    "------------------------------------------------------------------------\n",
    "VFtol     = scalar, tolerance required for value function to converge\n",
    "VFdist    = scalar, distance between last two value functions\n",
    "VFmaxiter = integer, maximum number of iterations for value function\n",
    "V         = vector, the value functions at each iteration\n",
    "Vmat      = matrix, the value for each possible combination of w and w'\n",
    "Vstore    = matrix, stores V at each iteration \n",
    "VFiter    = integer, current iteration number\n",
    "V_params  = tuple, contains parameters to pass into Belman operator: beta, sigma\n",
    "TV        = vector, the value function after applying the Bellman operator\n",
    "PF        = vector, indicies of choices of w' for all w \n",
    "VF        = vector, the \"true\" value function\n",
    "------------------------------------------------------------------------\n",
    "'''\n",
    "VFtol = 1e-5\n",
    "VFdist = 7.0 \n",
    "VFmaxiter = 5000 \n",
    "V = np.zeros(size_a)#true_VF # initial guess at value function\n",
    "Vstore = np.zeros((size_a, VFmaxiter)) #initialize Vstore array\n",
    "VFiter = 1 \n",
    "V_params = (beta, alpha, Y, R)\n",
    "while VFdist > VFtol and VFiter < VFmaxiter:\n",
    "    Vstore[:, VFiter] = V\n",
    "    TV, opt_a, opt_c = bellman_operator(V, a_grid, c_grid, V_params)\n",
    "    VFdist = (np.absolute(V - TV)).max()  # check distance\n",
    "    print('Iteration ', VFiter, ', distance = ', VFdist)\n",
    "    V = TV\n",
    "    VFiter += 1\n",
    "\n",
    "if VFiter < VFmaxiter:\n",
    "    print('Value function converged after this many iterations:', VFiter)\n",
    "else:\n",
    "    print('Value function did not converge')            \n",
    "\n",
    "\n",
    "VF = V # solution to the functional equation"
   ]
  },
  {
   "cell_type": "code",
   "execution_count": null,
   "id": "798f9360",
   "metadata": {},
   "outputs": [],
   "source": []
  }
 ],
 "metadata": {
  "kernelspec": {
   "display_name": "Python 3",
   "language": "python",
   "name": "python3"
  },
  "language_info": {
   "codemirror_mode": {
    "name": "ipython",
    "version": 3
   },
   "file_extension": ".py",
   "mimetype": "text/x-python",
   "name": "python",
   "nbconvert_exporter": "python",
   "pygments_lexer": "ipython3",
   "version": "3.8.8"
  }
 },
 "nbformat": 4,
 "nbformat_minor": 5
}
