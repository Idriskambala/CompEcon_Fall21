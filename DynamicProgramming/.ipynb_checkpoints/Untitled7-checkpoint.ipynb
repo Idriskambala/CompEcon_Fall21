{
 "cells": [
  {
   "cell_type": "code",
   "execution_count": null,
   "id": "6ad4b9c1",
   "metadata": {},
   "outputs": [],
   "source": [
    "import numpy as np\n",
    "import matplotlib.pyplot as plt\n",
    "from scipy import interpolate\n",
    "from scipy.optimize import fminbound\n",
    "import scipy.optimize as opt\n",
    "import random\n",
    "import functions\n",
    "from functions import bellmanoperator, utility"
   ]
  },
  {
   "cell_type": "markdown",
   "id": "e9ae5cf1",
   "metadata": {},
   "source": [
    "# parameters"
   ]
  },
  {
   "cell_type": "code",
   "execution_count": null,
   "id": "ac27454a",
   "metadata": {},
   "outputs": [],
   "source": [
    "beta = 0.95 #time preference\n",
    "alpha = 0.5 #This measures the intensity of habit formation and also denotes the nonseparability of preferences over time\n",
    "Y = 100 #exogenous income\n",
    "R = 1 #interest rate"
   ]
  },
  {
   "cell_type": "code",
   "execution_count": null,
   "id": "8032b630",
   "metadata": {},
   "outputs": [],
   "source": [
    "#grids\n",
    "a_lb = 0.1\n",
    "a_ub = 4\n",
    "size_a = 500\n",
    "size_c = 500\n",
    "a_grid = np.linspace(a_lb, a_ub, size_a)\n",
    "c_grid = np.linspace(a_lb, a_ub, size_c)"
   ]
  },
  {
   "cell_type": "code",
   "execution_count": null,
   "id": "adfa8272",
   "metadata": {},
   "outputs": [],
   "source": [
    "VFtol = 1e-5\n",
    "VFdist = 7.0 \n",
    "VFmaxiter = 3000 \n",
    "V = np.zeros(size_a, size_c) \n",
    "Vstore = np.zeros((size_f, VFmaxiter)) "
   ]
  },
  {
   "cell_type": "code",
   "execution_count": null,
   "id": "440dab87",
   "metadata": {},
   "outputs": [],
   "source": [
    "VFiter = 1 \n",
    "while VFdist > VFtol and VFiter < VFmaxiter:\n",
    "    Vstore[:, VFiter] = V\n",
    "    TV, opta = bellmanoperator(V, a_grid, c_grid, beta)\n",
    "    VFdist = (np.absolute(V - TV)).max()  \n",
    "    print('iteration ', VFiter, ', distance = ', VFdist)\n",
    "    V = TV\n",
    "    VFiter += 1\n",
    "   \n",
    "\n",
    "if VFiter < VFmaxiter:\n",
    "    print('coverged after:', VFiter)\n",
    "else:\n",
    "    print('did not converge')            \n",
    "\n",
    "\n",
    "VF = V "
   ]
  }
 ],
 "metadata": {
  "kernelspec": {
   "display_name": "Python 3",
   "language": "python",
   "name": "python3"
  },
  "language_info": {
   "codemirror_mode": {
    "name": "ipython",
    "version": 3
   },
   "file_extension": ".py",
   "mimetype": "text/x-python",
   "name": "python",
   "nbconvert_exporter": "python",
   "pygments_lexer": "ipython3",
   "version": "3.8.8"
  }
 },
 "nbformat": 4,
 "nbformat_minor": 5
}
