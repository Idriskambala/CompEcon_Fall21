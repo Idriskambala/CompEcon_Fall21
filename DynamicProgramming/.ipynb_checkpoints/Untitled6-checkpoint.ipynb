{
 "cells": [
  {
   "cell_type": "code",
   "execution_count": 1,
   "id": "6384f61d",
   "metadata": {},
   "outputs": [],
   "source": [
    "import numpy as np\n",
    "from scipy import interpolate\n",
    "from scipy.optimize import fminbound\n",
    "import scipy.optimize as opt\n",
    "import scipy "
   ]
  },
  {
   "cell_type": "code",
   "execution_count": 2,
   "id": "35f6e0b8",
   "metadata": {},
   "outputs": [],
   "source": [
    "def utility(a, aprime, c_1):\n",
    "    \"\"\"\n",
    "    Per period utility function\n",
    "    \"\"\"\n",
    "    c = Y + (1 + R) * a - aprime\n",
    "    \n",
    "    U = (c - alpha * c_1) ^ 2\n",
    "    \n",
    "    return U  \n",
    "  "
   ]
  },
  {
   "cell_type": "code",
   "execution_count": 3,
   "id": "2ec0fc92",
   "metadata": {},
   "outputs": [],
   "source": [
    "def bellmanoperator(V, a_grid, c_grid, params):\n",
    "    alpha, R, Y, beta = params\n",
    "    V_func = interpolate.interp2d(a_grid, c_grid, V, kind='cubic', fill_value='extrapolate')\n",
    "\n",
    "  \n",
    "    TV = np.empty_like(V)\n",
    "    opta = np.empty_like(TV)\n",
    "\n",
    "    # : max_a' { u(c,c_1) + beta V(a', c)} #but c = f(a, aprime)\n",
    "    #This is Equation 2 \n",
    "    for i, a in enumerate(a_grid):\n",
    "        def objective(aprime):\n",
    "            return - utility(a, aprime, c_1) - (beta * V_func(aprime, c))  \n",
    "        aprime_star = fminbound(objective, 1e-6, a - 1e-6)\n",
    "        opta[i] = aprime_star\n",
    "        TV[i] = - objective(aprime_star)\n",
    "    return TV, opta\n"
   ]
  }
 ],
 "metadata": {
  "kernelspec": {
   "display_name": "Python 3",
   "language": "python",
   "name": "python3"
  },
  "language_info": {
   "codemirror_mode": {
    "name": "ipython",
    "version": 3
   },
   "file_extension": ".py",
   "mimetype": "text/x-python",
   "name": "python",
   "nbconvert_exporter": "python",
   "pygments_lexer": "ipython3",
   "version": "3.8.8"
  }
 },
 "nbformat": 4,
 "nbformat_minor": 5
}
