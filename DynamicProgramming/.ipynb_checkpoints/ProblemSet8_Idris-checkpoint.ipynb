{
 "cells": [
  {
   "cell_type": "code",
   "execution_count": null,
   "id": "efacdef0",
   "metadata": {},
   "outputs": [],
   "source": [
    "# Import packages\n",
    "import numpy as np\n",
    "import matplotlib.pyplot as plt\n",
    "from scipy import interpolate\n",
    "from scipy.optimize import fminbound\n",
    "import scipy.optimize as opt\n",
    "\n",
    "# to print plots inline\n",
    "%matplotlib inline"
   ]
  },
  {
   "cell_type": "markdown",
   "id": "af9007fe",
   "metadata": {},
   "source": [
    "Paramters \\\n",
    "$\\beta = 0.95 $ \\\n",
    "$\\alpha = 0.50 $ \\\n",
    "R = 1 \\\n",
    "y = 100"
   ]
  },
  {
   "cell_type": "code",
   "execution_count": null,
   "id": "8516fefd",
   "metadata": {},
   "outputs": [],
   "source": [
    "beta = 0.95\n",
    "alpha = 0.50\n",
    "R = 1\n",
    "y = 100"
   ]
  },
  {
   "cell_type": "markdown",
   "id": "ba0f31a5",
   "metadata": {},
   "source": [
    "# Create a grid"
   ]
  },
  {
   "cell_type": "code",
   "execution_count": null,
   "id": "973dc3a8",
   "metadata": {},
   "outputs": [],
   "source": [
    "'''\n",
    "------------------------------------------------------------------------\n",
    "Create Grid for State Space    \n",
    "------------------------------------------------------------------------\n",
    "lb_w      = scalar, lower bound of cake grid\n",
    "ub_w      = scalar, upper bound of cake grid \n",
    "size_w    = integer, number of grid points in cake state space\n",
    "w_grid    = vector, size_w x 1 vector of cake grid points \n",
    "------------------------------------------------------------------------\n",
    "'''\n",
    "lb_a = 0.4 \n",
    "ub_a = 2.0 \n",
    "size_a = 400  # Number of grid points\n",
    "size_c_1 = 400 # number of grid point for c_t-1\n",
    "size_c = 400\n",
    "a_grid = np.linspace(lb_a, ub_a, size_a)\n",
    "c_grid = np.linspace(lb_a, ub_a, size_c_1)\n",
    "c_1_grid = np.linspace(lb_a, ub_a, size_c_1)"
   ]
  },
  {
   "cell_type": "code",
   "execution_count": null,
   "id": "84ee082c",
   "metadata": {},
   "outputs": [],
   "source": [
    "def utility(y, a, a_prime, R):\n",
    "    \"\"\"\n",
    "    Per period utility function\n",
    "    \"\"\"\n",
    "    C = y + (1 + R) * a + a_prime  \n",
    "    \n",
    "    U = np.log(C - alpha * C_1) ^ 2\n",
    "    \n",
    "    return U  "
   ]
  },
  {
   "cell_type": "markdown",
   "id": "76b4a924",
   "metadata": {},
   "source": [
    "Bellman operator "
   ]
  },
  {
   "cell_type": "code",
   "execution_count": null,
   "id": "bafecfe0",
   "metadata": {},
   "outputs": [],
   "source": [
    "# write Bellman operator function to help with VFI\n",
    "def bellman_operator(V, a_grid, c_grid, params):\n",
    "    '''\n",
    "    The approximate Bellman operator, which computes and returns the\n",
    "    updated value function TV on the grid points.  An array to store\n",
    "    the new set of values TV is optionally supplied (to avoid having to\n",
    "    allocate new arrays at each iteration).  If supplied, any existing data in \n",
    "    Tw will be overwritten.\n",
    "    '''\n",
    "    beta, alpha, y, R = params\n",
    "    \n",
    "    # Apply cubic interpolation to V\n",
    "    V_func = scipy.interpolate.interp2d(a_grid, c_grid, V, kind=\"cubic\")\n",
    "\n",
    "    # Initialize array for operator and policy function\n",
    "    TV = np.empty_like(V)\n",
    "    opt_a, opt_c = np.empty_like(TV)\n",
    "\n",
    "    # == set TV[i] = max_c,a' { u(c,c_1) + beta V(a', c)} == #\n",
    "    for i, a in enumerate(a_grid, c_grid):\n",
    "        def objective(a_prime, c):\n",
    "            return - utility(y, a, a_prime, R) - beta * V_func(a_prime, c)\n",
    "        a_prime_star, c_star = fminbound(objective, 1e-6, a - 1e-6)\n",
    "        opt_a[i] = a_prime_star\n",
    "        opt_c[i] = c_star\n",
    "        TV[i] = - objective(a_prime_star, c_star)\n",
    "    return TV, opt_a, opt_c"
   ]
  },
  {
   "cell_type": "markdown",
   "id": "0202b4c3",
   "metadata": {},
   "source": [
    "# Value Function Iteration "
   ]
  },
  {
   "cell_type": "code",
   "execution_count": null,
   "id": "7260bcce",
   "metadata": {},
   "outputs": [],
   "source": [
    "'''\n",
    "------------------------------------------------------------------------\n",
    "Value Function Iteration    \n",
    "------------------------------------------------------------------------\n",
    "VFtol     = scalar, tolerance required for value function to converge\n",
    "VFdist    = scalar, distance between last two value functions\n",
    "VFmaxiter = integer, maximum number of iterations for value function\n",
    "V         = vector, the value functions at each iteration\n",
    "Vmat      = matrix, the value for each possible combination of w and w'\n",
    "Vstore    = matrix, stores V at each iteration \n",
    "VFiter    = integer, current iteration number\n",
    "V_params  = tuple, contains parameters to pass into Belman operator: beta, sigma\n",
    "TV        = vector, the value function after applying the Bellman operator\n",
    "PF        = vector, indicies of choices of w' for all w \n",
    "VF        = vector, the \"true\" value function\n",
    "------------------------------------------------------------------------\n",
    "'''\n",
    "VFtol = 1e-5\n",
    "VFdist = 7.0 \n",
    "VFmaxiter = 5000 \n",
    "V = np.zeros(size_a, size_c) #true_VF # initial guess at value function\n",
    "Vstore = np.zeros((size_a, size_c, VFmaxiter)) #initialize Vstore array\n",
    "Vmat = np.zeros((size_a, size_c)) # initialize Vmat matrix\n",
    "TV = Vmat.max(axis=2)\n",
    "VFiter = 1 \n",
    "V_params = (y, alpha, beta, R)\n",
    "V = TV\n",
    "while VFdist > VFtol and VFiter < VFmaxiter:\n",
    "    for x in range(size_a): \n",
    "        for i in range(size_c_1):\n",
    "            for j in range(size_c):\n",
    "                Vmat[i, j] = U[i, j] + beta * V_func(a_prime, c)\n",
    "    Vstore[:, VFiter] = V\n",
    "    TV, opt_a, opt_c = bellman_operator(V, a_grid, c_grid, V_params)\n",
    "    VFdist = np.absolute(V - TV).max()  # check distance\n",
    "    print('Iteration ', VFiter, ', distance = ', VFdist)\n",
    "    V = TV\n",
    "    VFiter += 1\n",
    "\n",
    "if VFiter < VFmaxiter:\n",
    "    print('Value function converged after this many iterations:', VFiter)\n",
    "else:\n",
    "    print('Value function did not converge')            \n",
    "\n",
    "\n",
    "VF = V # solution to the functional equation"
   ]
  },
  {
   "cell_type": "markdown",
   "id": "45c1b6f0",
   "metadata": {},
   "source": [
    "# Extract decision rules from solution "
   ]
  },
  {
   "cell_type": "code",
   "execution_count": null,
   "id": "bfe16349",
   "metadata": {},
   "outputs": [],
   "source": [
    "'''\n",
    "------------------------------------------------------------------------\n",
    "Find consumption and savings policy functions   \n",
    "------------------------|------------------------------------------------\n",
    "optC  = vector, the optimal choice of c for each c\n",
    "------------------------------------------------------------------------\n",
    "'''\n",
    "optC = w_grid - optW / R # optimal consumption - get consumption through the transition eqn"
   ]
  },
  {
   "cell_type": "markdown",
   "id": "ac029b01",
   "metadata": {},
   "source": [
    "# Visualise Output "
   ]
  },
  {
   "cell_type": "code",
   "execution_count": null,
   "id": "cc000aa7",
   "metadata": {},
   "outputs": [],
   "source": [
    "# Plot value function \n",
    "plt.figure()\n",
    "plt.plot(w_grid[1:], VF[1:])\n",
    "plt.xlabel('Size of Cake')\n",
    "plt.ylabel('Value Function')\n",
    "plt.title('Value Function - deterministic cake eating')\n",
    "plt.show()"
   ]
  },
  {
   "cell_type": "markdown",
   "id": "ed84f8fe",
   "metadata": {},
   "source": [
    "# Plot value function at several iterations"
   ]
  },
  {
   "cell_type": "code",
   "execution_count": null,
   "id": "9c17be8d",
   "metadata": {},
   "outputs": [],
   "source": [
    "# Plot value function at several iterations\n",
    "plt.figure()\n",
    "fig, ax = plt.subplots()\n",
    "ax.plot(w_grid, Vstore[:,0], label='1st iter')\n",
    "ax.plot(w_grid, Vstore[:,10], label='0th iter')\n",
    "ax.plot(w_grid, Vstore[:,20], label='20th iter')\n",
    "ax.plot(w_grid, Vstore[:,30], label='30th iter')\n",
    "ax.plot(w_grid, Vstore[:,40], label='40th iter')\n",
    "ax.plot(w_grid, Vstore[:,VFiter-1], 'k', label='Last iter')\n",
    "# Now add the legend with some customizations.\n",
    "legend = ax.legend(loc='lower right', shadow=False)\n",
    "# Set the fontsize\n",
    "for label in legend.get_texts():\n",
    "    label.set_fontsize('large')\n",
    "for label in legend.get_lines():\n",
    "    label.set_linewidth(1.5)  # the legend line width\n",
    "plt.xlabel('Size of Cake')\n",
    "plt.ylabel('Value Function')\n",
    "plt.title('Value Function - deterministic cake eating')\n",
    "plt.show()"
   ]
  },
  {
   "cell_type": "code",
   "execution_count": null,
   "id": "f1c7717c",
   "metadata": {},
   "outputs": [],
   "source": [
    "#Plot optimal consumption rule as a function of cake size\n",
    "plt.figure()\n",
    "fig, ax = plt.subplots()\n",
    "ax.plot(w_grid[1:], optC[1:], label='Consumption')\n",
    "# Now add the legend with some customizations.\n",
    "legend = ax.legend(loc='upper left', shadow=False)\n",
    "# Set the fontsize\n",
    "for label in legend.get_texts():\n",
    "    label.set_fontsize('large')\n",
    "for label in legend.get_lines():\n",
    "    label.set_linewidth(1.5)  # the legend line width\n",
    "plt.xlabel('Size of Cake')\n",
    "plt.ylabel('Optimal Consumption')\n",
    "plt.title('Policy Function, consumption - deterministic cake eating')\n",
    "plt.show()"
   ]
  },
  {
   "cell_type": "code",
   "execution_count": null,
   "id": "8fdcffcc",
   "metadata": {},
   "outputs": [],
   "source": [
    "#Plot cake to leave rule as a function of cake size\n",
    "plt.figure()\n",
    "fig, ax = plt.subplots()\n",
    "ax.plot(w_grid[1:], optW[1:], label='Savings')\n",
    "ax.plot(w_grid[1:], w_grid[1:], '--', label='45 degree line')\n",
    "# Now add the legend with some customizations.\n",
    "legend = ax.legend(loc='upper left', shadow=False)\n",
    "# Set the fontsize\n",
    "for label in legend.get_texts():\n",
    "    label.set_fontsize('large')\n",
    "for label in legend.get_lines():\n",
    "    label.set_linewidth(1.5)  # the legend line width\n",
    "plt.xlabel('Size of Cake')\n",
    "plt.ylabel('Optimal Savings')\n",
    "plt.title('Policy Function, savings - deterministic cake eating')\n",
    "plt.show()"
   ]
  },
  {
   "cell_type": "markdown",
   "id": "1f96b5ce",
   "metadata": {},
   "source": [
    "# finding approximation errors"
   ]
  },
  {
   "cell_type": "code",
   "execution_count": null,
   "id": "897279eb",
   "metadata": {},
   "outputs": [],
   "source": [
    "aprime_errors = opt_a - beta * a_grid\n",
    "\n",
    "# Plot policy function approximation errors\n",
    "plt.figure()\n",
    "plt.plot(a_grid[3:], aprime_errors[3:])\n",
    "plt.xlabel('endowment')\n",
    "plt.ylabel('Error')\n",
    "plt.title('VFI a prime policy function errors')\n",
    "plt.show()"
   ]
  },
  {
   "cell_type": "code",
   "execution_count": null,
   "id": "011ee1e5",
   "metadata": {},
   "outputs": [],
   "source": [
    "C_errors = opt_C - (1 - beta) * a_grid\n",
    "# Plot policy function approximation errors\n",
    "plt.figure()\n",
    "plt.plot(a_grid[1:], C_errors[1:])\n",
    "plt.xlabel('endowment')\n",
    "plt.ylabel('Error')\n",
    "plt.title('VFI consumption policy function errors')\n",
    "plt.show()"
   ]
  },
  {
   "cell_type": "code",
   "execution_count": null,
   "id": "a4029fd9",
   "metadata": {},
   "outputs": [],
   "source": []
  }
 ],
 "metadata": {
  "kernelspec": {
   "display_name": "Python 3",
   "language": "python",
   "name": "python3"
  },
  "language_info": {
   "codemirror_mode": {
    "name": "ipython",
    "version": 3
   },
   "file_extension": ".py",
   "mimetype": "text/x-python",
   "name": "python",
   "nbconvert_exporter": "python",
   "pygments_lexer": "ipython3",
   "version": "3.8.8"
  }
 },
 "nbformat": 4,
 "nbformat_minor": 5
}
