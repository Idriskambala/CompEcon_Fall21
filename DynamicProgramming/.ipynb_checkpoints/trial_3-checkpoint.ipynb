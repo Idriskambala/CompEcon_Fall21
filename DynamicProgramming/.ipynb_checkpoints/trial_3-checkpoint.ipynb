{
 "cells": [
  {
   "cell_type": "code",
   "execution_count": 1,
   "id": "bf57dad9",
   "metadata": {},
   "outputs": [],
   "source": [
    "# Import packages\n",
    "import numpy as np\n",
    "import matplotlib.pyplot as plt\n",
    "from scipy import interpolate\n",
    "from scipy.optimize import fminbound\n",
    "import scipy.optimize as opt\n",
    "import scipy \n",
    "\n",
    "# to print plots inline\n",
    "%matplotlib inline"
   ]
  },
  {
   "cell_type": "markdown",
   "id": "799dace4",
   "metadata": {},
   "source": [
    "Paramters \\\n",
    "$\\beta = 0.95 $  time preference \\\n",
    "$\\alpha = 0.50 $  This measures the intensity of habit formation and also denotes the nonseparability of preferences over time \\\n",
    "R = 1  interest rate \\\n",
    "y = 100 exogenous income \\\n",
    "c_1 = 0.5 This is initial period (t = 0) consumption, which is given \\\n",
    "a = 1 , This is the initial asset at t = 0, which is given (> 0)\n"
   ]
  },
  {
   "cell_type": "code",
   "execution_count": 2,
   "id": "7c9b6dba",
   "metadata": {},
   "outputs": [],
   "source": [
    "#parameters\n",
    "beta = 0.95 #time preference\n",
    "alpha = 1 #This measures the intensity of habit formation and also denotes the nonseparability of preferences over time\n",
    "Y = 100 #exogenous income\n",
    "R = 1 #interest rate\n",
    "\n",
    "#grids\n",
    "a_lb = 0.1\n",
    "a_ub = 4\n",
    "size_a = 200\n",
    "size_c = 200\n",
    "a_grid = np.linspace(a_lb, a_ub, size_a)\n",
    "c_grid = np.linspace(a_lb, a_ub, size_c)\n"
   ]
  },
  {
   "cell_type": "code",
   "execution_count": null,
   "id": "2a1de8f7",
   "metadata": {},
   "outputs": [],
   "source": []
  },
  {
   "cell_type": "code",
   "execution_count": 3,
   "id": "66e6b61f",
   "metadata": {},
   "outputs": [],
   "source": [
    "def utility(a, aprime, c_1, alpha, R, Y):\n",
    "    \"\"\"\n",
    "    Per period utility function\n",
    "    \"\"\"\n",
    "    c = Y + (1 + R) * a - aprime\n",
    "    try:\n",
    "        c[c<=0] = 1e-10 # replace 0 and negative consumption with a tiny value - to impose non-negativity on cons\n",
    "    except TypeError:\n",
    "        if c <= 0:\n",
    "            c = 1e-10\n",
    "    if [c < c_1]:\n",
    "        u = np.log(c + 1e-7)\n",
    "    else:\n",
    "        u = np.log(c - alpha * c_1 + 1e-7) \n",
    "        \n",
    "    return u"
   ]
  },
  {
   "cell_type": "code",
   "execution_count": 4,
   "id": "9e99b10e",
   "metadata": {},
   "outputs": [],
   "source": [
    "def bellmanoperator(V, a_grid, c_grid, params):\n",
    "    alpha, R, Y, beta = params\n",
    "    V_func = interpolate.interp2d(a_grid, c_grid, V, kind='cubic')\n",
    "\n",
    "    TV = np.empty_like(V)\n",
    "    opta = np.empty_like(TV)\n",
    "\n",
    "    # : max_a' { u(c,c_1) + beta V(a', c)} #but c = f(a, aprime)\n",
    "    #This is Equation 2 \n",
    "    for i, a in enumerate(a_grid):\n",
    "        def objective(aprime):\n",
    "            return - utility(a, aprime, c_1, alpha, R, Y) - (beta * V_func(aprime, c))\n",
    "\n",
    "        aprime_star = fminbound(objective, 1e-6, a - 1e-6)\n",
    "        opta[i] = aprime_star\n",
    "        TV[i] = - objective(aprime_star)\n",
    "\n",
    "    return TV, opta "
   ]
  },
  {
   "cell_type": "code",
   "execution_count": 5,
   "id": "d945232f",
   "metadata": {},
   "outputs": [
    {
     "ename": "NameError",
     "evalue": "name 'u' is not defined",
     "output_type": "error",
     "traceback": [
      "\u001b[1;31m---------------------------------------------------------------------------\u001b[0m",
      "\u001b[1;31mNameError\u001b[0m                                 Traceback (most recent call last)",
      "\u001b[1;32m<ipython-input-5-ddc6e0cdeef9>\u001b[0m in \u001b[0;36m<module>\u001b[1;34m\u001b[0m\n\u001b[0;32m     14\u001b[0m             \u001b[1;32mfor\u001b[0m \u001b[0mc\u001b[0m \u001b[1;32min\u001b[0m \u001b[0mrange\u001b[0m\u001b[1;33m(\u001b[0m\u001b[0msize_c\u001b[0m\u001b[1;33m)\u001b[0m\u001b[1;33m:\u001b[0m\u001b[1;33m\u001b[0m\u001b[1;33m\u001b[0m\u001b[0m\n\u001b[0;32m     15\u001b[0m                 \u001b[1;32mfor\u001b[0m \u001b[0mc_1\u001b[0m \u001b[1;32min\u001b[0m \u001b[0mrange\u001b[0m\u001b[1;33m(\u001b[0m\u001b[0msize_c\u001b[0m\u001b[1;33m)\u001b[0m\u001b[1;33m:\u001b[0m\u001b[1;33m\u001b[0m\u001b[1;33m\u001b[0m\u001b[0m\n\u001b[1;32m---> 16\u001b[1;33m                     \u001b[0mVmat\u001b[0m\u001b[1;33m[\u001b[0m\u001b[0ma\u001b[0m\u001b[1;33m,\u001b[0m \u001b[0mc_1\u001b[0m\u001b[1;33m,\u001b[0m \u001b[0mc\u001b[0m\u001b[1;33m]\u001b[0m \u001b[1;33m=\u001b[0m \u001b[0mu\u001b[0m\u001b[1;33m(\u001b[0m\u001b[0mc\u001b[0m\u001b[1;33m,\u001b[0m \u001b[0mc_1\u001b[0m\u001b[1;33m)\u001b[0m \u001b[1;33m+\u001b[0m \u001b[1;33m(\u001b[0m\u001b[0mbeta\u001b[0m \u001b[1;33m*\u001b[0m \u001b[0mV_func\u001b[0m\u001b[1;33m(\u001b[0m\u001b[0maprime\u001b[0m\u001b[1;33m,\u001b[0m \u001b[0mc\u001b[0m\u001b[1;33m)\u001b[0m\u001b[1;33m)\u001b[0m\u001b[1;33m\u001b[0m\u001b[1;33m\u001b[0m\u001b[0m\n\u001b[0m\u001b[0;32m     17\u001b[0m \u001b[1;33m\u001b[0m\u001b[0m\n\u001b[0;32m     18\u001b[0m     \u001b[0mVstore\u001b[0m\u001b[1;33m[\u001b[0m\u001b[1;33m:\u001b[0m\u001b[1;33m,\u001b[0m \u001b[0mVFiter\u001b[0m\u001b[1;33m]\u001b[0m \u001b[1;33m=\u001b[0m \u001b[0mV\u001b[0m\u001b[1;33m\u001b[0m\u001b[1;33m\u001b[0m\u001b[0m\n",
      "\u001b[1;31mNameError\u001b[0m: name 'u' is not defined"
     ]
    }
   ],
   "source": [
    "#value function iteration\n",
    "VFtol = 1e-5\n",
    "VFdist = 7.0 \n",
    "VFmaxiter = 200 \n",
    "V = np.zeros((size_a, size_c))\n",
    "V_func = interpolate.interp2d(a_grid, c_grid, V, kind='cubic')\n",
    "Vmat = np.zeros((size_a, size_c, size_c))\n",
    "Vstore = np.zeros((size_a, size_c, VFmaxiter))\n",
    "VFiter = 1 \n",
    "V_params = (alpha, R, Y, beta)\n",
    "while VFdist > VFtol and VFiter < VFmaxiter:\n",
    "    for a in range(size_a):\n",
    "        for aprime in range(size_a):\n",
    "            for c in range(size_c):\n",
    "                for c_1 in range(size_c):\n",
    "                    Vmat[a, c_1, c] = utility(a, aprime, c_1, alpha, R, Y) + (beta * V_func(aprime, c))  \n",
    "                                \n",
    "    Vstore[:, VFiter] = V\n",
    "    TV, opta = bellmanoperator(V, a_grid, c_grid, V_params)\n",
    "    VFdist = (np.absolute(V - TV)).max()  \n",
    "    print('iteration ', VFiter, ', distance = ', VFdist)\n",
    "    V = TV\n",
    "    V_func = interpolate.interp2d(a_grid, c_grid, V, kind='cubic')\n",
    "    VFiter += 1\n",
    "   \n",
    "\n",
    "if VFiter < VFmaxiter:\n",
    "    print('coverged after:', VFiter)\n",
    "else:\n",
    "    print('did not converge')\n",
    "\n",
    "VF = V "
   ]
  }
 ],
 "metadata": {
  "kernelspec": {
   "display_name": "Python 3",
   "language": "python",
   "name": "python3"
  },
  "language_info": {
   "codemirror_mode": {
    "name": "ipython",
    "version": 3
   },
   "file_extension": ".py",
   "mimetype": "text/x-python",
   "name": "python",
   "nbconvert_exporter": "python",
   "pygments_lexer": "ipython3",
   "version": "3.8.8"
  }
 },
 "nbformat": 4,
 "nbformat_minor": 5
}
