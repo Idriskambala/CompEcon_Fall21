{
 "cells": [
  {
   "cell_type": "code",
   "execution_count": 6,
   "id": "bf78cb98",
   "metadata": {},
   "outputs": [],
   "source": [
    "import numpy as np\n",
    "import matplotlib.pyplot as plt\n",
    "import numpy as np\n",
    "import matplotlib.pyplot as plt\n",
    "from scipy import interpolate\n",
    "from scipy.optimize import fminbound\n",
    "import scipy.optimize as opt\n",
    "import scipy \n",
    "\n",
    "# to print plots inline\n",
    "%matplotlib inline"
   ]
  },
  {
   "cell_type": "markdown",
   "id": "5bf4a128",
   "metadata": {},
   "source": [
    "# Value Function Iteration "
   ]
  },
  {
   "cell_type": "code",
   "execution_count": 8,
   "id": "59d41078",
   "metadata": {},
   "outputs": [],
   "source": [
    "def value_fi(u, c, c_1, a_grid, c_grid, Y, R, a, aprime, alpha, beta):\n",
    "    alpha, Y, R, beta = params\n",
    "    v_diff = 7\n",
    "    v_tol = 1e-5 #tolerance \n",
    "    iter = 1 #current iteration\n",
    "    max_iter = 5000 #maximum iteration\n",
    "    V = np.zeros_like(a_grid, c_grid)\n",
    "    V_func = scipy.interpolate.interp2d(a_grid, c_grid, V, kind='cubic')    \n",
    "    while v_diff > v_tol: \n",
    "        for i, a in enumerate(a_grid):\n",
    "            for j, a_prime in enumerate(a_grid):\n",
    "                for x, c_1 in enumerate(c_grid):\n",
    "                    c = Y + (1 + R) * a - a_prime\n",
    "                    if c <= 0:\n",
    "                        u[i, j] = -9999999999999999\n",
    "                    else:\n",
    "                        u[i, j] = np.log(c - alpha * c_1)\n",
    "                        \n",
    "                    Vmat[i, j] = u[i, j] + beta * V_func[j]\n",
    "        TV = Vmat.max(axis=2)\n",
    "            \n",
    "        PF = np.agrmax(V_mat, axis=2)\n",
    "        v_diff = np.abs(V - TV).max()\n",
    "        V = TV\n",
    "        iter += 1\n",
    "        print('iteration = ', iter)\n",
    "        \n",
    "        \n",
    "    if iter < max_iter: \n",
    "        print('value function converged')\n",
    "        print ('Difference = ', v_diff)\n",
    "    else:\n",
    "        print('value function did not converge')\n",
    "    \n",
    "    return(V, PF)\n",
    "        \n"
   ]
  }
 ],
 "metadata": {
  "kernelspec": {
   "display_name": "Python 3",
   "language": "python",
   "name": "python3"
  },
  "language_info": {
   "codemirror_mode": {
    "name": "ipython",
    "version": 3
   },
   "file_extension": ".py",
   "mimetype": "text/x-python",
   "name": "python",
   "nbconvert_exporter": "python",
   "pygments_lexer": "ipython3",
   "version": "3.8.8"
  }
 },
 "nbformat": 4,
 "nbformat_minor": 5
}
