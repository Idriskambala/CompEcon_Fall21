{
 "cells": [
  {
   "cell_type": "code",
   "execution_count": 1,
   "id": "b4c77902",
   "metadata": {},
   "outputs": [],
   "source": [
    "# Import packages\n",
    "import numpy as np\n",
    "import matplotlib.pyplot as plt\n",
    "from scipy import interpolate\n",
    "from scipy.optimize import fminbound\n",
    "import scipy.optimize as opt\n",
    "\n",
    "# to print plots inline\n",
    "%matplotlib inline"
   ]
  },
  {
   "cell_type": "markdown",
   "id": "bb7ee5fa",
   "metadata": {},
   "source": [
    "Paramters \\\n",
    "$\\beta = 0.95 $ \\\n",
    "$\\alpha = 0.50 $ \\\n",
    "R = 1 \\\n",
    "y = 100"
   ]
  },
  {
   "cell_type": "code",
   "execution_count": null,
   "id": "e726aff2",
   "metadata": {},
   "outputs": [],
   "source": [
    "beta = 0.95\n",
    "alpha = 0.50\n",
    "R = 1\n",
    "y = 100"
   ]
  },
  {
   "cell_type": "code",
   "execution_count": 3,
   "id": "dd23d4cd",
   "metadata": {},
   "outputs": [],
   "source": [
    "'''\n",
    "------------------------------------------------------------------------\n",
    "Create Grid for State Space    \n",
    "------------------------------------------------------------------------\n",
    "lb_w      = scalar, lower bound of cake grid\n",
    "ub_w      = scalar, upper bound of cake grid \n",
    "size_w    = integer, number of grid points in cake state space\n",
    "w_grid    = vector, size_w x 1 vector of cake grid points \n",
    "------------------------------------------------------------------------\n",
    "'''\n",
    "lb_a = 0.4 \n",
    "ub_a = 2.0 \n",
    "size_a = 200  # Number of grid points\n",
    "size_c_1 = 200\n",
    "a_grid = np.linspace(lb_a, ub_a, size_a)\n",
    "c_grid = np.linspace(lb_a, ub_a, size_c_1)"
   ]
  },
  {
   "cell_type": "code",
   "execution_count": 4,
   "id": "d5b9a957",
   "metadata": {},
   "outputs": [],
   "source": [
    "def utility(a, a_prime, alpha, Y, R):\n",
    "    \"\"\"\n",
    "    Per period utility function\n",
    "    \"\"\"\n",
    "    C = Y + (1 + R) * a - a_prime\n",
    "    \n",
    "    U = np.log(C - alpha * C_1) ^ 2\n",
    "\n",
    "    return U "
   ]
  },
  {
   "cell_type": "code",
   "execution_count": null,
   "id": "6f4e65a8",
   "metadata": {},
   "outputs": [],
   "source": []
  }
 ],
 "metadata": {
  "kernelspec": {
   "display_name": "Python 3",
   "language": "python",
   "name": "python3"
  },
  "language_info": {
   "codemirror_mode": {
    "name": "ipython",
    "version": 3
   },
   "file_extension": ".py",
   "mimetype": "text/x-python",
   "name": "python",
   "nbconvert_exporter": "python",
   "pygments_lexer": "ipython3",
   "version": "3.8.8"
  }
 },
 "nbformat": 4,
 "nbformat_minor": 5
}
