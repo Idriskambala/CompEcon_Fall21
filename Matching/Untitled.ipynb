{
 "cells": [
  {
   "cell_type": "code",
   "execution_count": 9,
   "id": "ad6005ac",
   "metadata": {},
   "outputs": [
    {
     "name": "stdout",
     "output_type": "stream",
     "text": [
      "Divisible by Five 0\n",
      "Not Divisible by Five 1\n",
      "Not Divisible by Five 2\n",
      "Not Divisible by Five 3\n",
      "Not Divisible by Five 4\n",
      "Divisible by Five 5\n",
      "Not Divisible by Five 6\n",
      "Not Divisible by Five 7\n",
      "Not Divisible by Five 8\n",
      "Not Divisible by Five 9\n",
      "Divisible by Five 10\n",
      "Not Divisible by Five 11\n",
      "Not Divisible by Five 12\n",
      "Not Divisible by Five 13\n",
      "Not Divisible by Five 14\n",
      "Divisible by Five 15\n",
      "Not Divisible by Five 16\n",
      "Not Divisible by Five 17\n",
      "Not Divisible by Five 18\n",
      "Not Divisible by Five 19\n",
      "Divisible by Five 20\n",
      "Not Divisible by Five 21\n",
      "Not Divisible by Five 22\n",
      "Not Divisible by Five 23\n",
      "Not Divisible by Five 24\n",
      "Divisible by Five 25\n",
      "Not Divisible by Five 26\n",
      "Not Divisible by Five 27\n",
      "Not Divisible by Five 28\n",
      "Not Divisible by Five 29\n",
      "Divisible by Five 30\n",
      "Not Divisible by Five 31\n",
      "Not Divisible by Five 32\n",
      "Not Divisible by Five 33\n",
      "Not Divisible by Five 34\n",
      "Divisible by Five 35\n",
      "Not Divisible by Five 36\n",
      "Not Divisible by Five 37\n",
      "Not Divisible by Five 38\n",
      "Not Divisible by Five 39\n",
      "Divisible by Five 40\n",
      "Not Divisible by Five 41\n",
      "Not Divisible by Five 42\n",
      "Not Divisible by Five 43\n",
      "Not Divisible by Five 44\n",
      "Divisible by Five 45\n",
      "Not Divisible by Five 46\n",
      "Not Divisible by Five 47\n",
      "Not Divisible by Five 48\n",
      "Not Divisible by Five 49\n",
      "Divisible by Five 50\n",
      "Not Divisible by Five 51\n",
      "Not Divisible by Five 52\n",
      "Not Divisible by Five 53\n",
      "Not Divisible by Five 54\n",
      "Divisible by Five 55\n",
      "Not Divisible by Five 56\n",
      "Not Divisible by Five 57\n",
      "Not Divisible by Five 58\n",
      "Not Divisible by Five 59\n",
      "Divisible by Five 60\n",
      "Not Divisible by Five 61\n",
      "Not Divisible by Five 62\n",
      "Not Divisible by Five 63\n",
      "Not Divisible by Five 64\n",
      "Divisible by Five 65\n",
      "Not Divisible by Five 66\n",
      "Not Divisible by Five 67\n",
      "Not Divisible by Five 68\n",
      "Not Divisible by Five 69\n",
      "Divisible by Five 70\n",
      "Not Divisible by Five 71\n",
      "Not Divisible by Five 72\n",
      "Not Divisible by Five 73\n",
      "Not Divisible by Five 74\n",
      "Divisible by Five 75\n",
      "Not Divisible by Five 76\n",
      "Not Divisible by Five 77\n",
      "Not Divisible by Five 78\n",
      "Not Divisible by Five 79\n",
      "Divisible by Five 80\n",
      "Not Divisible by Five 81\n",
      "Not Divisible by Five 82\n",
      "Not Divisible by Five 83\n",
      "Not Divisible by Five 84\n",
      "Divisible by Five 85\n",
      "Not Divisible by Five 86\n",
      "Not Divisible by Five 87\n",
      "Not Divisible by Five 88\n",
      "Not Divisible by Five 89\n",
      "Divisible by Five 90\n",
      "Not Divisible by Five 91\n",
      "Not Divisible by Five 92\n",
      "Not Divisible by Five 93\n",
      "Not Divisible by Five 94\n",
      "Divisible by Five 95\n",
      "Not Divisible by Five 96\n",
      "Not Divisible by Five 97\n",
      "Not Divisible by Five 98\n",
      "Not Divisible by Five 99\n"
     ]
    }
   ],
   "source": [
    "for n in range(0, 100):\n",
    "    if n % 5 == 0:\n",
    "        print(\"Divisible by Five\", n)\n",
    "       \n",
    "    else: \n",
    "        print(\"Not Divisible by Five\", n)"
   ]
  },
  {
   "cell_type": "code",
   "execution_count": 10,
   "id": "0b2cc9b9",
   "metadata": {},
   "outputs": [
    {
     "name": "stdout",
     "output_type": "stream",
     "text": [
      "1\n",
      "4\n",
      "9\n",
      "16\n",
      "25\n",
      "36\n",
      "49\n",
      "64\n",
      "81\n"
     ]
    }
   ],
   "source": [
    "for i in range (1, 10):\n",
    "    print(i ** 2)"
   ]
  },
  {
   "cell_type": "code",
   "execution_count": 17,
   "id": "4bafb937",
   "metadata": {},
   "outputs": [
    {
     "name": "stdout",
     "output_type": "stream",
     "text": [
      "18 is less than 20\n",
      "19 is less than 20\n",
      "Number is 20\n",
      "21 is greater than 20\n",
      "22 is greater than 20\n",
      "23 is greater than 20\n",
      "24 is greater than 20\n"
     ]
    }
   ],
   "source": [
    "for n in range(18, 25):\n",
    "    if n == 20:\n",
    "        print(\"Number is\", n)\n",
    "    elif n > 20:\n",
    "        print(n, \"is greater than 20\")\n",
    "    else:\n",
    "        print(n, \"is less than 20\")\n"
   ]
  },
  {
   "cell_type": "code",
   "execution_count": null,
   "id": "18c7eb9d",
   "metadata": {},
   "outputs": [],
   "source": []
  }
 ],
 "metadata": {
  "kernelspec": {
   "display_name": "Python 3",
   "language": "python",
   "name": "python3"
  },
  "language_info": {
   "codemirror_mode": {
    "name": "ipython",
    "version": 3
   },
   "file_extension": ".py",
   "mimetype": "text/x-python",
   "name": "python",
   "nbconvert_exporter": "python",
   "pygments_lexer": "ipython3",
   "version": "3.8.8"
  }
 },
 "nbformat": 4,
 "nbformat_minor": 5
}
