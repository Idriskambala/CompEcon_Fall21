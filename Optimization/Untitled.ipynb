{
 "cells": [
  {
   "cell_type": "markdown",
   "id": "81e3ee6c",
   "metadata": {},
   "source": [
    "# PS 4 Iddrisu Kambala Mohammed"
   ]
  },
  {
   "cell_type": "code",
   "execution_count": null,
   "id": "cb45b30c",
   "metadata": {},
   "outputs": [],
   "source": [
    "##importing necessary packages \n",
    "import pandas as pd\n",
    "import numpy as np\n",
    "import scipy.optimize as opt\n",
    "import time"
   ]
  },
  {
   "cell_type": "code",
   "execution_count": null,
   "id": "01e2bfba",
   "metadata": {},
   "outputs": [],
   "source": []
  }
 ],
 "metadata": {
  "kernelspec": {
   "display_name": "Python 3",
   "language": "python",
   "name": "python3"
  },
  "language_info": {
   "codemirror_mode": {
    "name": "ipython",
    "version": 3
   },
   "file_extension": ".py",
   "mimetype": "text/x-python",
   "name": "python",
   "nbconvert_exporter": "python",
   "pygments_lexer": "ipython3",
   "version": "3.8.8"
  }
 },
 "nbformat": 4,
 "nbformat_minor": 5
}
