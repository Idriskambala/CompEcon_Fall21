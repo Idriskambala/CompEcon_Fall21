{
 "cells": [
  {
   "cell_type": "markdown",
   "id": "d36dc49f",
   "metadata": {},
   "source": [
    "# problem set 2"
   ]
  },
  {
   "cell_type": "markdown",
   "id": "59befd3e",
   "metadata": {},
   "source": [
    "# The Standard Libarary"
   ]
  },
  {
   "cell_type": "markdown",
   "id": "3d397002",
   "metadata": {},
   "source": [
    "#problem 1"
   ]
  },
  {
   "cell_type": "code",
   "execution_count": 1,
   "id": "df96020f",
   "metadata": {},
   "outputs": [],
   "source": [
    "import statistics\n",
    "def lists(L):\n",
    "    print(min(L), max(L), statistics.mean(L))"
   ]
  },
  {
   "cell_type": "code",
   "execution_count": 2,
   "id": "4316d534",
   "metadata": {},
   "outputs": [
    {
     "name": "stdout",
     "output_type": "stream",
     "text": [
      "0 10 5\n"
     ]
    }
   ],
   "source": [
    "lists([i for i in range(11)]) #integers from 0 to 10 inclusive "
   ]
  },
  {
   "cell_type": "markdown",
   "id": "9c42e4fd",
   "metadata": {},
   "source": [
    "#Problem 2"
   ]
  },
  {
   "cell_type": "code",
   "execution_count": 3,
   "id": "38fe6c25",
   "metadata": {},
   "outputs": [
    {
     "data": {
      "text/plain": [
       "[0, 1, 2, 3, 4, 5, 6, 7, 8, 9, 10]"
      ]
     },
     "execution_count": 3,
     "metadata": {},
     "output_type": "execute_result"
    }
   ],
   "source": [
    "myinteger = [i for i in range(11)] #integers from 0 - 10\n",
    "myinteger"
   ]
  },
  {
   "cell_type": "code",
   "execution_count": 4,
   "id": "d1051063",
   "metadata": {},
   "outputs": [],
   "source": [
    "myinteger2 = myinteger"
   ]
  },
  {
   "cell_type": "code",
   "execution_count": 5,
   "id": "8c3d4941",
   "metadata": {},
   "outputs": [
    {
     "data": {
      "text/plain": [
       "[0, 1, 2, 3, 4, 5, 6, 7, 8, 9, 10, 0, 1, 2, 3, 4, 5, 6, 7, 8, 9, 10]"
      ]
     },
     "execution_count": 5,
     "metadata": {},
     "output_type": "execute_result"
    }
   ],
   "source": [
    "myinteger2 = myinteger2 * 2\n",
    "myinteger2"
   ]
  },
  {
   "cell_type": "code",
   "execution_count": 6,
   "id": "9022573c",
   "metadata": {},
   "outputs": [
    {
     "data": {
      "text/plain": [
       "False"
      ]
     },
     "execution_count": 6,
     "metadata": {},
     "output_type": "execute_result"
    }
   ],
   "source": [
    "myinteger == myinteger2"
   ]
  },
  {
   "cell_type": "raw",
   "id": "40b3c7d2",
   "metadata": {},
   "source": [
    "Thus, integers are immutable \n"
   ]
  },
  {
   "cell_type": "code",
   "execution_count": 7,
   "id": "d662d15d",
   "metadata": {},
   "outputs": [
    {
     "data": {
      "text/plain": [
       "['Aerfate', 'Angela', 'Idris', 'Jakaria', 'Kaleigh', 'Mahyar']"
      ]
     },
     "execution_count": 7,
     "metadata": {},
     "output_type": "execute_result"
    }
   ],
   "source": [
    "econ_names = [\"Aerfate\", \"Angela\", \"Idris\", \"Jakaria\",\"Kaleigh\", \"Mahyar\"] #creating strings\n",
    "econ_names"
   ]
  },
  {
   "cell_type": "code",
   "execution_count": 8,
   "id": "01562149",
   "metadata": {},
   "outputs": [],
   "source": [
    "econ_names2 = econ_names"
   ]
  },
  {
   "cell_type": "code",
   "execution_count": 9,
   "id": "c2f552ea",
   "metadata": {},
   "outputs": [],
   "source": [
    "econ_names2 = econ_names2 + [\"Jason\"]"
   ]
  },
  {
   "cell_type": "code",
   "execution_count": 10,
   "id": "27955e3b",
   "metadata": {},
   "outputs": [
    {
     "data": {
      "text/plain": [
       "False"
      ]
     },
     "execution_count": 10,
     "metadata": {},
     "output_type": "execute_result"
    }
   ],
   "source": [
    "econ_names2 == econ_names"
   ]
  },
  {
   "cell_type": "raw",
   "id": "003e0efb",
   "metadata": {},
   "source": [
    "strings are immutable"
   ]
  },
  {
   "cell_type": "code",
   "execution_count": 11,
   "id": "65526b7c",
   "metadata": {},
   "outputs": [],
   "source": [
    "my_list = [1, 2, 'z'] #creating list"
   ]
  },
  {
   "cell_type": "code",
   "execution_count": 12,
   "id": "db0fbef3",
   "metadata": {},
   "outputs": [],
   "source": [
    "my_list2 = my_list"
   ]
  },
  {
   "cell_type": "code",
   "execution_count": 13,
   "id": "e3aa3fbd",
   "metadata": {},
   "outputs": [],
   "source": [
    "my_list2[2] = 4"
   ]
  },
  {
   "cell_type": "code",
   "execution_count": 14,
   "id": "18d051f0",
   "metadata": {},
   "outputs": [
    {
     "data": {
      "text/plain": [
       "True"
      ]
     },
     "execution_count": 14,
     "metadata": {},
     "output_type": "execute_result"
    }
   ],
   "source": [
    "my_list == my_list2"
   ]
  },
  {
   "cell_type": "raw",
   "id": "89a85cf5",
   "metadata": {},
   "source": [
    "list is mutable"
   ]
  },
  {
   "cell_type": "code",
   "execution_count": 15,
   "id": "afdadcb5",
   "metadata": {},
   "outputs": [],
   "source": [
    "my_tuple = (1, 2, 'z')"
   ]
  },
  {
   "cell_type": "code",
   "execution_count": 16,
   "id": "2e4d0970",
   "metadata": {},
   "outputs": [],
   "source": [
    "my_tuple2 = my_tuple"
   ]
  },
  {
   "cell_type": "code",
   "execution_count": 17,
   "id": "e1ec6f45",
   "metadata": {},
   "outputs": [],
   "source": [
    "my_tuple2 += (1,)"
   ]
  },
  {
   "cell_type": "code",
   "execution_count": 18,
   "id": "2dffe061",
   "metadata": {},
   "outputs": [
    {
     "data": {
      "text/plain": [
       "False"
      ]
     },
     "execution_count": 18,
     "metadata": {},
     "output_type": "execute_result"
    }
   ],
   "source": [
    "my_tuple == my_tuple2"
   ]
  },
  {
   "cell_type": "raw",
   "id": "63bb9f01",
   "metadata": {},
   "source": [
    "Tuples are immutable"
   ]
  },
  {
   "cell_type": "code",
   "execution_count": 19,
   "id": "50ac8f8f",
   "metadata": {},
   "outputs": [],
   "source": [
    "my_set = {25, 26, 27, 29}"
   ]
  },
  {
   "cell_type": "code",
   "execution_count": 20,
   "id": "e84a9bdc",
   "metadata": {},
   "outputs": [],
   "source": [
    "my_set2 = my_set"
   ]
  },
  {
   "cell_type": "code",
   "execution_count": 21,
   "id": "edf16774",
   "metadata": {},
   "outputs": [],
   "source": [
    "my_set2.add(30)"
   ]
  },
  {
   "cell_type": "code",
   "execution_count": 22,
   "id": "17b1e6b6",
   "metadata": {},
   "outputs": [
    {
     "data": {
      "text/plain": [
       "True"
      ]
     },
     "execution_count": 22,
     "metadata": {},
     "output_type": "execute_result"
    }
   ],
   "source": [
    "my_set == my_set2"
   ]
  },
  {
   "cell_type": "raw",
   "id": "0568de5b",
   "metadata": {},
   "source": [
    "sets are mutable "
   ]
  },
  {
   "cell_type": "markdown",
   "id": "c58982a0",
   "metadata": {},
   "source": [
    "Problem 3"
   ]
  },
  {
   "cell_type": "code",
   "execution_count": 23,
   "id": "a1bbd979",
   "metadata": {},
   "outputs": [],
   "source": [
    "import calculator as cal"
   ]
  },
  {
   "cell_type": "code",
   "execution_count": 24,
   "id": "6507b973",
   "metadata": {},
   "outputs": [],
   "source": [
    "from math import sqrt"
   ]
  },
  {
   "cell_type": "code",
   "execution_count": 25,
   "id": "5bf2fa6d",
   "metadata": {},
   "outputs": [],
   "source": [
    "def triangle(m, n):\n",
    "    return sqrt(cal.firstone(cal.secondone(m, m), cal.secondone(n, n)))"
   ]
  },
  {
   "cell_type": "code",
   "execution_count": 26,
   "id": "3962cb55",
   "metadata": {},
   "outputs": [
    {
     "data": {
      "text/plain": [
       "16.77050983124842"
      ]
     },
     "execution_count": 26,
     "metadata": {},
     "output_type": "execute_result"
    }
   ],
   "source": [
    "triangle(7.5,15)"
   ]
  },
  {
   "cell_type": "markdown",
   "id": "3e58f0aa",
   "metadata": {},
   "source": [
    "# 2nd: Introduction to Numpy"
   ]
  },
  {
   "cell_type": "markdown",
   "id": "7c2a2498",
   "metadata": {},
   "source": [
    "Problem 1"
   ]
  },
  {
   "cell_type": "code",
   "execution_count": 27,
   "id": "112fefe2",
   "metadata": {},
   "outputs": [
    {
     "data": {
      "text/plain": [
       "array([[ 37,  14, -32, -10],\n",
       "       [-54,  -7,  58,  65]])"
      ]
     },
     "execution_count": 27,
     "metadata": {},
     "output_type": "execute_result"
    }
   ],
   "source": [
    "import numpy as np\n",
    "A = np.array([[3, -1, 4], [1, 5, -9]]) #numpy arrays\n",
    "B = np.array([[2, 6, -5, 3], [5, -8, 9, 7], [9, -3, -2, -3]]) #numpy arrays\n",
    "C = A.dot(B)\n",
    "C"
   ]
  },
  {
   "cell_type": "markdown",
   "id": "0a6ceca0",
   "metadata": {},
   "source": [
    "Problem 2"
   ]
  },
  {
   "cell_type": "code",
   "execution_count": 28,
   "id": "b56e32f4",
   "metadata": {},
   "outputs": [],
   "source": [
    "def functionA():\n",
    "    A = np.array( [ [3, 1, 4],[1, 5, 9],[-5, 3, 1] ] )\n",
    "    return -(A.dot(A).dot(A)) + 9 * A.dot(A) - 15 * A\n",
    "    "
   ]
  },
  {
   "cell_type": "code",
   "execution_count": 29,
   "id": "31f05cd9",
   "metadata": {},
   "outputs": [
    {
     "data": {
      "text/plain": [
       "array([[0, 0, 0],\n",
       "       [0, 0, 0],\n",
       "       [0, 0, 0]])"
      ]
     },
     "execution_count": 29,
     "metadata": {},
     "output_type": "execute_result"
    }
   ],
   "source": [
    "functionA()"
   ]
  },
  {
   "cell_type": "markdown",
   "id": "e5441266",
   "metadata": {},
   "source": [
    "problem 5"
   ]
  },
  {
   "cell_type": "code",
   "execution_count": 30,
   "id": "c2a76e44",
   "metadata": {},
   "outputs": [],
   "source": [
    "import numpy as np\n",
    "def matrixfunction():\n",
    "    M = np.arange(6).reshape((3,2))\n",
    "    A = M.T\n",
    "    L = np.full(9, 3).reshape(3,3)\n",
    "    B = np.tril(L)\n",
    "    C = np.diag([-2, -2, -2])\n",
    "    x = np.column_stack((np.zeros((3,3)), M, np.eye(3))) # M = A.T\n",
    "    y = np.column_stack((A, np.zeros((2,2)), np.zeros_like(A)))\n",
    "    z = np.column_stack((B, np.zeros_like(M), C)) #M = A.T\n",
    "    blockmatrix = np.concatenate((x, y, z))\n",
    "    return blockmatrix \n",
    "\n",
    "\n"
   ]
  },
  {
   "cell_type": "code",
   "execution_count": 31,
   "id": "19ccc356",
   "metadata": {},
   "outputs": [
    {
     "data": {
      "text/plain": [
       "array([[ 0.,  0.,  0.,  0.,  1.,  1.,  0.,  0.],\n",
       "       [ 0.,  0.,  0.,  2.,  3.,  0.,  1.,  0.],\n",
       "       [ 0.,  0.,  0.,  4.,  5.,  0.,  0.,  1.],\n",
       "       [ 0.,  2.,  4.,  0.,  0.,  0.,  0.,  0.],\n",
       "       [ 1.,  3.,  5.,  0.,  0.,  0.,  0.,  0.],\n",
       "       [ 3.,  0.,  0.,  0.,  0., -2.,  0.,  0.],\n",
       "       [ 3.,  3.,  0.,  0.,  0.,  0., -2.,  0.],\n",
       "       [ 3.,  3.,  3.,  0.,  0.,  0.,  0., -2.]])"
      ]
     },
     "execution_count": 31,
     "metadata": {},
     "output_type": "execute_result"
    }
   ],
   "source": [
    "matrixfunction()"
   ]
  },
  {
   "cell_type": "markdown",
   "id": "756ec969",
   "metadata": {},
   "source": [
    "# Object-Oriented Programming"
   ]
  },
  {
   "cell_type": "markdown",
   "id": "c39b710e",
   "metadata": {},
   "source": [
    "problem 1"
   ]
  },
  {
   "cell_type": "code",
   "execution_count": 35,
   "id": "c61eace7",
   "metadata": {},
   "outputs": [],
   "source": [
    "class Backpack:\n",
    "    \"\"\"A Backpack object class. Name, colour, max_size and list of contents.\n",
    "\n",
    "    Attributes:\n",
    "        name (str): the name of the backpack's owner.\n",
    "        color (str): the color of the backpack.\n",
    "        contents (list): the contents of the backpack\n",
    "    \"\"\"\n",
    "    \n",
    "    def __init__(self, name, colour, max_size = 5):\n",
    "        \"\"\"Set the name, initialize an empty list of contents, set the color and\n",
    "        set a default maximum number of items.\n",
    "        \n",
    "        Parameters:\n",
    "            name (str): the name of the backpack's owner.\n",
    "            color (str): the color of the backpack.\n",
    "            max_size (int): the maximum number of items the backpack can contain.\n",
    "        \"\"\"\n",
    "        \n",
    "        self.name = name\n",
    "        self.color = color\n",
    "        self.max_size = max_size\n",
    "        self.contents = []\n",
    "    \n",
    "    def put(self, item):\n",
    "        \"\"\"Adds item.\n",
    "        \n",
    "        Args:\n",
    "            item (str): item name\n",
    "        \n",
    "        Returns:\n",
    "            \"No Room!\" full capacity.\n",
    "        \"\"\"\n",
    "        if len(self.contents) < 5:\n",
    "            self.contents.append(item)\n",
    "            \n",
    "        else:\n",
    "            print(\"No room!\")\n",
    "    \n",
    "    def take(self, item):\n",
    "        \"\"\"item taken out\n",
    "        \n",
    "        Args:\n",
    "            item (str): item name\n",
    "            \n",
    "        Returns:\n",
    "            Nothing\n",
    "        \"\"\"\n",
    "        self.contents.remove(item)\n",
    "    \n",
    "    def dump(self):\n",
    "        \"\"\"resets the contents of the backpack to an empty set\n",
    "        \n",
    "        Args:\n",
    "            None.\n",
    "        \n",
    "        Returns:\n",
    "            Nothing.\n",
    "        \"\"\"\n",
    "        self.contents = []"
   ]
  },
  {
   "cell_type": "code",
   "execution_count": 36,
   "id": "9fe1df52",
   "metadata": {},
   "outputs": [],
   "source": [
    "def test_backpack():\n",
    "    testpack = Backpack(\"Barry\",\"black\")\n",
    "    if testpack.name != \"Barry\":\n",
    "        print(\"Backpack.name assigned incorrectly\")\n",
    "    for item in [\"pencil\", \"pen\", \"paper\", \"computer\"]:\n",
    "        testpack.put(item)\n",
    "    print(\"Contents:\", testpack.contents)\n",
    "    "
   ]
  },
  {
   "cell_type": "code",
   "execution_count": null,
   "id": "622e109b",
   "metadata": {},
   "outputs": [],
   "source": [
    "test_backpack()"
   ]
  },
  {
   "cell_type": "markdown",
   "id": "7fbb9770",
   "metadata": {},
   "source": [
    "Problem 2"
   ]
  },
  {
   "cell_type": "code",
   "execution_count": 38,
   "id": "a84df9e6",
   "metadata": {},
   "outputs": [],
   "source": [
    "class Jetpack(Backpack):\n",
    "    \"\"\"A Jetpack object class. Inherited from Backpack class.\n",
    "\n",
    "    Attributes: \n",
    "        name (str): the name of the backpack's owner.\n",
    "        colour (str): the color of the backpack.\n",
    "        max_size (int): the maximum number of items the backpack can contain.\n",
    "        contents (list): the contents of the backpack.\n",
    "        fuel (int): fuel content\n",
    "    \"\"\"\n",
    "    def __init__(self, name, colour, max_size = 2):\n",
    "        \"\"\"use the backpack constructor to initialise the name, colour, and max_size attributes. A jetpack only holds 2 \n",
    "        items by default.\n",
    "        \n",
    "        Args:\n",
    "            name (str): the name of the backpack's owner.\n",
    "            color (str): the color of the backpack.\n",
    "            max_size (int): the maximum number of items the backpack can contain (default = 2).\n",
    "            fuel (int): the amount of fuel in the tank (default =10).\n",
    "        \"\"\"\n",
    "        \n",
    "        Backpack.__init__(self, name, colour, max_size)\n",
    "        self.fuel = 10\n",
    "    \n",
    "    def fly(self, burned):\n",
    "        \"\"\"can fly if there is enough fuel.\n",
    "        \n",
    "        Args:\n",
    "            burned (int): fuel to be burned\n",
    "            \n",
    "        Returns:\n",
    "            \"Not enough fuel!\" if the user tries to burn more than remains \n",
    "        \"\"\"\n",
    "        if burned > self.fuel:\n",
    "            print(\"Not enough fuel!\")\n",
    "            \n",
    "        else:\n",
    "            self.fuel = self.fuel - burned\n",
    "    \n",
    "    def dump(self):\n",
    "        \"\"\"clears off the contents of the backpack and fuel.\n",
    "        \n",
    "        Args:\n",
    "            None.\n",
    "        \n",
    "        Returns:\n",
    "            Nothing.\n",
    "        \"\"\"\n",
    "        self.contents = []\n",
    "        self.fuel = 0"
   ]
  },
  {
   "cell_type": "code",
   "execution_count": null,
   "id": "65eef9a4",
   "metadata": {},
   "outputs": [],
   "source": []
  },
  {
   "cell_type": "code",
   "execution_count": null,
   "id": "c192865b",
   "metadata": {},
   "outputs": [],
   "source": []
  },
  {
   "cell_type": "code",
   "execution_count": null,
   "id": "3aa266be",
   "metadata": {},
   "outputs": [],
   "source": []
  },
  {
   "cell_type": "code",
   "execution_count": null,
   "id": "18457e44",
   "metadata": {},
   "outputs": [],
   "source": []
  },
  {
   "cell_type": "code",
   "execution_count": null,
   "id": "358fbead",
   "metadata": {},
   "outputs": [],
   "source": []
  },
  {
   "cell_type": "code",
   "execution_count": null,
   "id": "86dae58f",
   "metadata": {},
   "outputs": [],
   "source": []
  }
 ],
 "metadata": {
  "kernelspec": {
   "display_name": "Python 3",
   "language": "python",
   "name": "python3"
  },
  "language_info": {
   "codemirror_mode": {
    "name": "ipython",
    "version": 3
   },
   "file_extension": ".py",
   "mimetype": "text/x-python",
   "name": "python",
   "nbconvert_exporter": "python",
   "pygments_lexer": "ipython3",
   "version": "3.8.8"
  }
 },
 "nbformat": 4,
 "nbformat_minor": 5
}
